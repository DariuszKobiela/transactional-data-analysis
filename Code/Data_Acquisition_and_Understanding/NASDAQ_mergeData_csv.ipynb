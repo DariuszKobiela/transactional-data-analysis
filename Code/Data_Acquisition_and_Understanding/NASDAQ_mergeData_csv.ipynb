{
 "cells": [
  {
   "cell_type": "code",
   "execution_count": 1,
   "id": "0b36628c",
   "metadata": {},
   "outputs": [],
   "source": [
    "import os\n",
    "import pandas"
   ]
  },
  {
   "cell_type": "markdown",
   "id": "3d39a2bc",
   "metadata": {},
   "source": [
    "### Create csv for trades"
   ]
  },
  {
   "cell_type": "code",
   "execution_count": null,
   "id": "4125639f",
   "metadata": {},
   "outputs": [],
   "source": [
    "first = True\n",
    "counter = 0\n",
    "global df\n",
    "for file in os.listdir('trades'):\n",
    "    if (counter > 40000): #counter > 40000\n",
    "        break       \n",
    "    if file.endswith('.parquet'):\n",
    "        filename = file\n",
    "        source = pandas.read_parquet('trades\\\\' + filename)\n",
    "        if first:\n",
    "            df = source\n",
    "            df.to_csv('tradesOut.csv') #'trades\\\\' + 'out2.csv'\n",
    "            print('First parquet file converted to csv!')\n",
    "            counter += 1\n",
    "            first = False\n",
    "        else:\n",
    "            df = source\n",
    "            df.to_csv('tradesOut.csv', mode='a', header=False) #'trades\\\\' + 'out2.csv'\n",
    "            counter += 1\n",
    "            #print('Next paquet file appended to csv file!')  \n",
    "            if ((counter % 100) == 0):\n",
    "                print('-------------------------------------------------')\n",
    "                print('Counter: ' + str(counter))\n",
    "                print('Next 100 parquet files appended to csv file!')  \n",
    "                print('-------------------------------------------------')"
   ]
  },
  {
   "cell_type": "markdown",
   "id": "d1e63b00",
   "metadata": {},
   "source": [
    "###### OUTPUT:\n",
    "First parquet file converted to csv!\n",
    "-------------------------------------------------\n",
    "Counter: 100\n",
    "Next 100 parquet file appended to csv file!\n",
    "-------------------------------------------------\n",
    "-------------------------------------------------\n",
    "Counter: 200\n",
    "Next 100 parquet file appended to csv file!\n",
    "-------------------------------------------------\n",
    "-------------------------------------------------\n",
    "Counter: 300\n",
    "Next 100 parquet file appended to csv file!\n",
    "-------------------------------------------------\n",
    "-------------------------------------------------\n",
    "Counter: 400\n",
    "Next 100 parquet file appended to csv file!\n",
    "-------------------------------------------------\n",
    "-------------------------------------------------\n",
    "Counter: 500\n",
    "Next 100 parquet file appended to csv file!\n",
    "-------------------------------------------------\n",
    "..."
   ]
  },
  {
   "cell_type": "markdown",
   "id": "3d8973a9",
   "metadata": {},
   "source": [
    "### Later, I will create also csv for quotes"
   ]
  },
  {
   "cell_type": "code",
   "execution_count": 17,
   "id": "98b936cc",
   "metadata": {
    "scrolled": false
   },
   "outputs": [
    {
     "name": "stdout",
     "output_type": "stream",
     "text": [
      "First paquet file converted to csv!\n",
      "-------------------------------------------------\n",
      "Counter: 100\n",
      "Next 100 parquet files appended to csv file!\n",
      "-------------------------------------------------\n",
      "-------------------------------------------------\n",
      "Counter: 200\n",
      "Next 100 parquet files appended to csv file!\n",
      "-------------------------------------------------\n",
      "-------------------------------------------------\n",
      "Counter: 300\n",
      "Next 100 parquet files appended to csv file!\n",
      "-------------------------------------------------\n",
      "-------------------------------------------------\n",
      "Counter: 400\n",
      "Next 100 parquet files appended to csv file!\n",
      "-------------------------------------------------\n",
      "-------------------------------------------------\n",
      "Counter: 500\n",
      "Next 100 parquet files appended to csv file!\n",
      "-------------------------------------------------\n",
      "-------------------------------------------------\n",
      "Counter: 600\n",
      "Next 100 parquet files appended to csv file!\n",
      "-------------------------------------------------\n",
      "-------------------------------------------------\n",
      "Counter: 700\n",
      "Next 100 parquet files appended to csv file!\n",
      "-------------------------------------------------\n",
      "-------------------------------------------------\n",
      "Counter: 800\n",
      "Next 100 parquet files appended to csv file!\n",
      "-------------------------------------------------\n",
      "-------------------------------------------------\n",
      "Counter: 900\n",
      "Next 100 parquet files appended to csv file!\n",
      "-------------------------------------------------\n",
      "-------------------------------------------------\n",
      "Counter: 1000\n",
      "Next 100 parquet files appended to csv file!\n",
      "-------------------------------------------------\n"
     ]
    }
   ],
   "source": [
    "#dla counter = 6000 plik csv ma 82 GB\n",
    "first2 = True\n",
    "counter = 0\n",
    "global df2\n",
    "for file in os.listdir('justQuotes'):\n",
    "    if (counter > 1000): #counter > 40000\n",
    "        break\n",
    "    if file.endswith('.parquet'):\n",
    "        filename = file\n",
    "        source2 = pandas.read_parquet('justQuotes\\\\' + filename)\n",
    "        if first2:\n",
    "            df2 = source2\n",
    "            df2.to_csv('quotesSmallOut.csv')\n",
    "            print('First paquet file converted to csv!')\n",
    "            counter += 1\n",
    "            first2 = False\n",
    "        else:\n",
    "            df2 = source2\n",
    "            df2.to_csv('quotesSmallOut.csv', mode='a', header=False)\n",
    "            counter += 1  \n",
    "            if ((counter % 100) == 0):\n",
    "                print('-------------------------------------------------')\n",
    "                print('Counter: ' + str(counter))\n",
    "                print('Next 100 parquet files appended to csv file!')  \n",
    "                print('-------------------------------------------------')"
   ]
  }
 ],
 "metadata": {
  "kernelspec": {
   "display_name": "Python 3 (ipykernel)",
   "language": "python",
   "name": "python3"
  },
  "language_info": {
   "codemirror_mode": {
    "name": "ipython",
    "version": 3
   },
   "file_extension": ".py",
   "mimetype": "text/x-python",
   "name": "python",
   "nbconvert_exporter": "python",
   "pygments_lexer": "ipython3",
   "version": "3.9.13"
  }
 },
 "nbformat": 4,
 "nbformat_minor": 5
}
