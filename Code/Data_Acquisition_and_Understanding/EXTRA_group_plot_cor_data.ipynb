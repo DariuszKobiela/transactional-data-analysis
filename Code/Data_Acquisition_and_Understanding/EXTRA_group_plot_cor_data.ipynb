{
 "cells": [
  {
   "cell_type": "code",
   "execution_count": 1,
   "metadata": {},
   "outputs": [],
   "source": [
    "import pandas as pd\n",
    "import matplotlib.pyplot as plt\n",
    "import numpy as np\n",
    "\n",
    "import datetime"
   ]
  },
  {
   "cell_type": "code",
   "execution_count": 2,
   "metadata": {},
   "outputs": [
    {
     "data": {
      "text/html": [
       "<div>\n",
       "<style scoped>\n",
       "    .dataframe tbody tr th:only-of-type {\n",
       "        vertical-align: middle;\n",
       "    }\n",
       "\n",
       "    .dataframe tbody tr th {\n",
       "        vertical-align: top;\n",
       "    }\n",
       "\n",
       "    .dataframe thead th {\n",
       "        text-align: right;\n",
       "    }\n",
       "</style>\n",
       "<table border=\"1\" class=\"dataframe\">\n",
       "  <thead>\n",
       "    <tr style=\"text-align: right;\">\n",
       "      <th></th>\n",
       "      <th>&lt;TICKER&gt;</th>\n",
       "      <th>&lt;PER&gt;</th>\n",
       "      <th>&lt;DATE&gt;</th>\n",
       "      <th>&lt;TIME&gt;</th>\n",
       "      <th>&lt;LAST&gt;</th>\n",
       "      <th>&lt;VOL&gt;</th>\n",
       "    </tr>\n",
       "  </thead>\n",
       "  <tbody>\n",
       "    <tr>\n",
       "      <th>437572</th>\n",
       "      <td>INTC</td>\n",
       "      <td>0</td>\n",
       "      <td>30/09/11</td>\n",
       "      <td>15:58:00</td>\n",
       "      <td>21.355</td>\n",
       "      <td>600</td>\n",
       "    </tr>\n",
       "    <tr>\n",
       "      <th>437573</th>\n",
       "      <td>INTC</td>\n",
       "      <td>0</td>\n",
       "      <td>30/09/11</td>\n",
       "      <td>15:58:00</td>\n",
       "      <td>21.355</td>\n",
       "      <td>300</td>\n",
       "    </tr>\n",
       "    <tr>\n",
       "      <th>437574</th>\n",
       "      <td>INTC</td>\n",
       "      <td>0</td>\n",
       "      <td>30/09/11</td>\n",
       "      <td>15:58:00</td>\n",
       "      <td>21.355</td>\n",
       "      <td>100</td>\n",
       "    </tr>\n",
       "    <tr>\n",
       "      <th>437575</th>\n",
       "      <td>INTC</td>\n",
       "      <td>0</td>\n",
       "      <td>30/09/11</td>\n",
       "      <td>15:58:00</td>\n",
       "      <td>21.355</td>\n",
       "      <td>400</td>\n",
       "    </tr>\n",
       "    <tr>\n",
       "      <th>437576</th>\n",
       "      <td>INTC</td>\n",
       "      <td>0</td>\n",
       "      <td>30/09/11</td>\n",
       "      <td>15:59:00</td>\n",
       "      <td>21.355</td>\n",
       "      <td>300</td>\n",
       "    </tr>\n",
       "    <tr>\n",
       "      <th>...</th>\n",
       "      <td>...</td>\n",
       "      <td>...</td>\n",
       "      <td>...</td>\n",
       "      <td>...</td>\n",
       "      <td>...</td>\n",
       "      <td>...</td>\n",
       "    </tr>\n",
       "    <tr>\n",
       "      <th>437666</th>\n",
       "      <td>INTC</td>\n",
       "      <td>0</td>\n",
       "      <td>30/09/11</td>\n",
       "      <td>15:59:00</td>\n",
       "      <td>21.330</td>\n",
       "      <td>1600</td>\n",
       "    </tr>\n",
       "    <tr>\n",
       "      <th>437667</th>\n",
       "      <td>INTC</td>\n",
       "      <td>0</td>\n",
       "      <td>30/09/11</td>\n",
       "      <td>15:59:00</td>\n",
       "      <td>21.330</td>\n",
       "      <td>789</td>\n",
       "    </tr>\n",
       "    <tr>\n",
       "      <th>437668</th>\n",
       "      <td>INTC</td>\n",
       "      <td>0</td>\n",
       "      <td>30/09/11</td>\n",
       "      <td>15:59:00</td>\n",
       "      <td>21.330</td>\n",
       "      <td>3600</td>\n",
       "    </tr>\n",
       "    <tr>\n",
       "      <th>437669</th>\n",
       "      <td>INTC</td>\n",
       "      <td>0</td>\n",
       "      <td>30/09/11</td>\n",
       "      <td>15:59:00</td>\n",
       "      <td>21.330</td>\n",
       "      <td>2011</td>\n",
       "    </tr>\n",
       "    <tr>\n",
       "      <th>437670</th>\n",
       "      <td>INTC</td>\n",
       "      <td>0</td>\n",
       "      <td>30/09/11</td>\n",
       "      <td>15:59:00</td>\n",
       "      <td>21.330</td>\n",
       "      <td>433</td>\n",
       "    </tr>\n",
       "  </tbody>\n",
       "</table>\n",
       "<p>99 rows × 6 columns</p>\n",
       "</div>"
      ],
      "text/plain": [
       "       <TICKER>  <PER>    <DATE>    <TIME>  <LAST>  <VOL>\n",
       "437572     INTC      0  30/09/11  15:58:00  21.355    600\n",
       "437573     INTC      0  30/09/11  15:58:00  21.355    300\n",
       "437574     INTC      0  30/09/11  15:58:00  21.355    100\n",
       "437575     INTC      0  30/09/11  15:58:00  21.355    400\n",
       "437576     INTC      0  30/09/11  15:59:00  21.355    300\n",
       "...         ...    ...       ...       ...     ...    ...\n",
       "437666     INTC      0  30/09/11  15:59:00  21.330   1600\n",
       "437667     INTC      0  30/09/11  15:59:00  21.330    789\n",
       "437668     INTC      0  30/09/11  15:59:00  21.330   3600\n",
       "437669     INTC      0  30/09/11  15:59:00  21.330   2011\n",
       "437670     INTC      0  30/09/11  15:59:00  21.330    433\n",
       "\n",
       "[99 rows x 6 columns]"
      ]
     },
     "execution_count": 2,
     "metadata": {},
     "output_type": "execute_result"
    }
   ],
   "source": [
    "df_intc = pd.read_csv('INTC/INTC_110801_110930.csv')\n",
    "df_intc[-100:-1]  # df_int.head()"
   ]
  },
  {
   "cell_type": "code",
   "execution_count": 3,
   "metadata": {},
   "outputs": [],
   "source": [
    "df_ibm = pd.read_csv('IBM/IBM_110801_110930.csv')"
   ]
  },
  {
   "cell_type": "code",
   "execution_count": 4,
   "metadata": {},
   "outputs": [
    {
     "data": {
      "text/html": [
       "<div>\n",
       "<style scoped>\n",
       "    .dataframe tbody tr th:only-of-type {\n",
       "        vertical-align: middle;\n",
       "    }\n",
       "\n",
       "    .dataframe tbody tr th {\n",
       "        vertical-align: top;\n",
       "    }\n",
       "\n",
       "    .dataframe thead th {\n",
       "        text-align: right;\n",
       "    }\n",
       "</style>\n",
       "<table border=\"1\" class=\"dataframe\">\n",
       "  <thead>\n",
       "    <tr style=\"text-align: right;\">\n",
       "      <th></th>\n",
       "      <th>&lt;TICKER&gt;</th>\n",
       "      <th>&lt;PER&gt;</th>\n",
       "      <th>&lt;DATE&gt;</th>\n",
       "      <th>&lt;TIME&gt;</th>\n",
       "      <th>&lt;LAST&gt;</th>\n",
       "      <th>&lt;VOL&gt;</th>\n",
       "      <th>&lt;TIME_DT&gt;</th>\n",
       "    </tr>\n",
       "  </thead>\n",
       "  <tbody>\n",
       "    <tr>\n",
       "      <th>0</th>\n",
       "      <td>IBM</td>\n",
       "      <td>0</td>\n",
       "      <td>01/09/11</td>\n",
       "      <td>09:30:00</td>\n",
       "      <td>172.38</td>\n",
       "      <td>100</td>\n",
       "      <td>2011-09-01 09:30:00</td>\n",
       "    </tr>\n",
       "    <tr>\n",
       "      <th>1</th>\n",
       "      <td>IBM</td>\n",
       "      <td>0</td>\n",
       "      <td>01/09/11</td>\n",
       "      <td>09:30:00</td>\n",
       "      <td>172.34</td>\n",
       "      <td>100</td>\n",
       "      <td>2011-09-01 09:30:00</td>\n",
       "    </tr>\n",
       "    <tr>\n",
       "      <th>2</th>\n",
       "      <td>IBM</td>\n",
       "      <td>0</td>\n",
       "      <td>01/09/11</td>\n",
       "      <td>09:30:00</td>\n",
       "      <td>172.37</td>\n",
       "      <td>100</td>\n",
       "      <td>2011-09-01 09:30:00</td>\n",
       "    </tr>\n",
       "    <tr>\n",
       "      <th>3</th>\n",
       "      <td>IBM</td>\n",
       "      <td>0</td>\n",
       "      <td>01/09/11</td>\n",
       "      <td>09:30:00</td>\n",
       "      <td>172.37</td>\n",
       "      <td>100</td>\n",
       "      <td>2011-09-01 09:30:00</td>\n",
       "    </tr>\n",
       "    <tr>\n",
       "      <th>4</th>\n",
       "      <td>IBM</td>\n",
       "      <td>0</td>\n",
       "      <td>01/09/11</td>\n",
       "      <td>09:30:00</td>\n",
       "      <td>172.37</td>\n",
       "      <td>100</td>\n",
       "      <td>2011-09-01 09:30:00</td>\n",
       "    </tr>\n",
       "  </tbody>\n",
       "</table>\n",
       "</div>"
      ],
      "text/plain": [
       "  <TICKER>  <PER>    <DATE>    <TIME>  <LAST>  <VOL>           <TIME_DT>\n",
       "0      IBM      0  01/09/11  09:30:00  172.38    100 2011-09-01 09:30:00\n",
       "1      IBM      0  01/09/11  09:30:00  172.34    100 2011-09-01 09:30:00\n",
       "2      IBM      0  01/09/11  09:30:00  172.37    100 2011-09-01 09:30:00\n",
       "3      IBM      0  01/09/11  09:30:00  172.37    100 2011-09-01 09:30:00\n",
       "4      IBM      0  01/09/11  09:30:00  172.37    100 2011-09-01 09:30:00"
      ]
     },
     "execution_count": 4,
     "metadata": {},
     "output_type": "execute_result"
    }
   ],
   "source": [
    "df_ibm[\"<TIME_DT>\"] = df_ibm[\"<DATE>\"] + \" \" + df_ibm[\"<TIME>\"]\n",
    "s = pd.to_datetime(df_ibm[\"<TIME_DT>\"], format='%d/%m/%y %H:%M:%S' )  # infer_datetime_format=True)\n",
    "df_ibm[\"<TIME_DT>\"] = s\n",
    "df_ibm.head()"
   ]
  },
  {
   "cell_type": "code",
   "execution_count": null,
   "metadata": {},
   "outputs": [],
   "source": []
  },
  {
   "cell_type": "code",
   "execution_count": 5,
   "metadata": {},
   "outputs": [],
   "source": [
    "# Bierzemy okno czasowe (godzina, dzien,  tydzien, miesiac...):\n",
    "# - Obliczamy wspolczynnik korelacji Pearsona (-1 tzn. jedna rosnie a druga maleje, 0 tzn. brak korelacji, 1 tzn. jedna rosnie druga rosnie) \n",
    "# [Spolki bierzemy parami]\n",
    "# - Przesuwamy wstecz jedna ze spolek i znow liczymy korelacje"
   ]
  },
  {
   "cell_type": "code",
   "execution_count": 6,
   "metadata": {},
   "outputs": [
    {
     "data": {
      "text/html": [
       "<div>\n",
       "<style scoped>\n",
       "    .dataframe tbody tr th:only-of-type {\n",
       "        vertical-align: middle;\n",
       "    }\n",
       "\n",
       "    .dataframe tbody tr th {\n",
       "        vertical-align: top;\n",
       "    }\n",
       "\n",
       "    .dataframe thead th {\n",
       "        text-align: right;\n",
       "    }\n",
       "</style>\n",
       "<table border=\"1\" class=\"dataframe\">\n",
       "  <thead>\n",
       "    <tr style=\"text-align: right;\">\n",
       "      <th></th>\n",
       "      <th>&lt;TICKER&gt;</th>\n",
       "      <th>&lt;PER&gt;</th>\n",
       "      <th>&lt;DATE&gt;</th>\n",
       "      <th>&lt;TIME&gt;</th>\n",
       "      <th>&lt;LAST&gt;</th>\n",
       "      <th>&lt;VOL&gt;</th>\n",
       "      <th>&lt;TIME_DT&gt;</th>\n",
       "    </tr>\n",
       "  </thead>\n",
       "  <tbody>\n",
       "    <tr>\n",
       "      <th>0</th>\n",
       "      <td>INTC</td>\n",
       "      <td>0</td>\n",
       "      <td>01/09/11</td>\n",
       "      <td>09:30:00</td>\n",
       "      <td>20.25</td>\n",
       "      <td>147</td>\n",
       "      <td>2011-09-01 09:30:00</td>\n",
       "    </tr>\n",
       "    <tr>\n",
       "      <th>1</th>\n",
       "      <td>INTC</td>\n",
       "      <td>0</td>\n",
       "      <td>01/09/11</td>\n",
       "      <td>09:30:00</td>\n",
       "      <td>20.29</td>\n",
       "      <td>100</td>\n",
       "      <td>2011-09-01 09:30:00</td>\n",
       "    </tr>\n",
       "    <tr>\n",
       "      <th>2</th>\n",
       "      <td>INTC</td>\n",
       "      <td>0</td>\n",
       "      <td>01/09/11</td>\n",
       "      <td>09:30:00</td>\n",
       "      <td>20.29</td>\n",
       "      <td>100</td>\n",
       "      <td>2011-09-01 09:30:00</td>\n",
       "    </tr>\n",
       "    <tr>\n",
       "      <th>3</th>\n",
       "      <td>INTC</td>\n",
       "      <td>0</td>\n",
       "      <td>01/09/11</td>\n",
       "      <td>09:30:00</td>\n",
       "      <td>20.29</td>\n",
       "      <td>100</td>\n",
       "      <td>2011-09-01 09:30:00</td>\n",
       "    </tr>\n",
       "    <tr>\n",
       "      <th>4</th>\n",
       "      <td>INTC</td>\n",
       "      <td>0</td>\n",
       "      <td>01/09/11</td>\n",
       "      <td>09:30:00</td>\n",
       "      <td>20.29</td>\n",
       "      <td>100</td>\n",
       "      <td>2011-09-01 09:30:00</td>\n",
       "    </tr>\n",
       "  </tbody>\n",
       "</table>\n",
       "</div>"
      ],
      "text/plain": [
       "  <TICKER>  <PER>    <DATE>    <TIME>  <LAST>  <VOL>           <TIME_DT>\n",
       "0     INTC      0  01/09/11  09:30:00   20.25    147 2011-09-01 09:30:00\n",
       "1     INTC      0  01/09/11  09:30:00   20.29    100 2011-09-01 09:30:00\n",
       "2     INTC      0  01/09/11  09:30:00   20.29    100 2011-09-01 09:30:00\n",
       "3     INTC      0  01/09/11  09:30:00   20.29    100 2011-09-01 09:30:00\n",
       "4     INTC      0  01/09/11  09:30:00   20.29    100 2011-09-01 09:30:00"
      ]
     },
     "execution_count": 6,
     "metadata": {},
     "output_type": "execute_result"
    }
   ],
   "source": [
    "df_intc[\"<TIME_DT>\"] = df_intc[\"<DATE>\"] + \" \" + df_intc[\"<TIME>\"]\n",
    "s = pd.to_datetime(df_intc[\"<TIME_DT>\"], format='%d/%m/%y %H:%M:%S' )  # infer_datetime_format=True)\n",
    "df_intc[\"<TIME_DT>\"] = s\n",
    "df_intc.head()"
   ]
  },
  {
   "cell_type": "code",
   "execution_count": 7,
   "metadata": {},
   "outputs": [],
   "source": [
    "start_datetime = df_intc[\"<TIME_DT>\"].loc[0]\n",
    "offset = datetime.timedelta(minutes=60)  # ustalamy przesuniecie czasowe na poziomie 60 minut\n",
    "df_intc_period = df_intc.loc[df_intc[\"<TIME_DT>\"] <= start_datetime + offset]"
   ]
  },
  {
   "cell_type": "code",
   "execution_count": 8,
   "metadata": {},
   "outputs": [],
   "source": [
    "df_ibm_period = df_ibm.loc[(df_ibm[\"<TIME_DT>\"] >= start_datetime) & (df_ibm[\"<TIME_DT>\"] <= start_datetime + offset)]"
   ]
  },
  {
   "cell_type": "code",
   "execution_count": 9,
   "metadata": {},
   "outputs": [
    {
     "data": {
      "image/png": "[encoded data removed]",
      "text/plain": [
       "<Figure size 432x288 with 2 Axes>"
      ]
     },
     "metadata": {
      "needs_background": "light"
     },
     "output_type": "display_data"
    }
   ],
   "source": [
    "# TODO: legenda\n",
    "fig, ax1 = plt.subplots()\n",
    "ax2 = ax1.twinx()\n",
    "ax1.scatter(df_ibm_period[\"<TIME_DT>\"], df_ibm_period[\"<LAST>\"], c='r')\n",
    "ax2.scatter(df_intc_period[\"<TIME_DT>\"], df_intc_period[\"<LAST>\"], c='b')\n",
    "plt.legend([\"IBM\", \"INTC\"])\n",
    "plt.show()"
   ]
  },
  {
   "cell_type": "code",
   "execution_count": 10,
   "metadata": {},
   "outputs": [
    {
     "data": {
      "text/plain": [
       "-0.2557729917066187"
      ]
     },
     "execution_count": 10,
     "metadata": {},
     "output_type": "execute_result"
    }
   ],
   "source": [
    "df_ibm_period[\"<LAST>\"].corr(df_intc_period[\"<LAST>\"])"
   ]
  },
  {
   "cell_type": "code",
   "execution_count": 11,
   "metadata": {},
   "outputs": [],
   "source": [
    "def group_plot_corr(df1_period, df2_period, plot=True):\n",
    "    df1_period_grouped = df1_period.groupby(by=[\"<TIME_DT>\"]).mean()\n",
    "    df2_period_grouped = df2_period.groupby(by=[\"<TIME_DT>\"]).mean()\n",
    "    if plot:\n",
    "        fig, ax1 = plt.subplots()\n",
    "        ax2 = ax1.twinx()\n",
    "        ax1.scatter(df1_period_grouped.index, df1_period_grouped[\"<LAST>\"], c='r')\n",
    "        ax2.scatter(df2_period_grouped.index, df2_period_grouped[\"<LAST>\"], c='b')\n",
    "        plt.show()\n",
    "    display(df1_period_grouped[\"<LAST>\"].corr(df2_period_grouped[\"<LAST>\"]))"
   ]
  },
  {
   "cell_type": "code",
   "execution_count": 12,
   "metadata": {},
   "outputs": [
    {
     "data": {
      "text/plain": [
       "<TIME_DT>\n",
       "2011-09-01 09:30:00    20.205919\n",
       "2011-09-01 09:31:00    20.111818\n",
       "2011-09-01 09:32:00    20.107403\n",
       "2011-09-01 09:33:00    20.134333\n",
       "2011-09-01 09:34:00    20.112909\n",
       "Name: <LAST>, dtype: float64"
      ]
     },
     "metadata": {},
     "output_type": "display_data"
    },
    {
     "data": {
      "text/plain": [
       "DatetimeIndex(['2011-09-01 09:30:00', '2011-09-01 09:31:00',\n",
       "               '2011-09-01 09:32:00', '2011-09-01 09:33:00',\n",
       "               '2011-09-01 09:34:00', '2011-09-01 09:35:00',\n",
       "               '2011-09-01 09:36:00', '2011-09-01 09:37:00',\n",
       "               '2011-09-01 09:38:00', '2011-09-01 09:39:00',\n",
       "               '2011-09-01 09:40:00', '2011-09-01 09:41:00',\n",
       "               '2011-09-01 09:42:00', '2011-09-01 09:43:00',\n",
       "               '2011-09-01 09:44:00', '2011-09-01 09:45:00',\n",
       "               '2011-09-01 09:46:00', '2011-09-01 09:47:00',\n",
       "               '2011-09-01 09:48:00', '2011-09-01 09:49:00',\n",
       "               '2011-09-01 09:50:00', '2011-09-01 09:51:00',\n",
       "               '2011-09-01 09:52:00', '2011-09-01 09:53:00',\n",
       "               '2011-09-01 09:54:00', '2011-09-01 09:55:00',\n",
       "               '2011-09-01 09:56:00', '2011-09-01 09:57:00',\n",
       "               '2011-09-01 09:58:00', '2011-09-01 09:59:00',\n",
       "               '2011-09-01 10:00:00', '2011-09-01 10:01:00',\n",
       "               '2011-09-01 10:02:00', '2011-09-01 10:03:00',\n",
       "               '2011-09-01 10:06:00', '2011-09-01 10:07:00',\n",
       "               '2011-09-01 10:08:00', '2011-09-01 10:09:00',\n",
       "               '2011-09-01 10:10:00', '2011-09-01 10:11:00',\n",
       "               '2011-09-01 10:12:00', '2011-09-01 10:13:00',\n",
       "               '2011-09-01 10:14:00', '2011-09-01 10:15:00',\n",
       "               '2011-09-01 10:16:00', '2011-09-01 10:17:00',\n",
       "               '2011-09-01 10:18:00', '2011-09-01 10:19:00',\n",
       "               '2011-09-01 10:20:00', '2011-09-01 10:21:00',\n",
       "               '2011-09-01 10:22:00', '2011-09-01 10:23:00',\n",
       "               '2011-09-01 10:24:00', '2011-09-01 10:25:00',\n",
       "               '2011-09-01 10:26:00', '2011-09-01 10:27:00',\n",
       "               '2011-09-01 10:28:00', '2011-09-01 10:29:00',\n",
       "               '2011-09-01 10:30:00'],\n",
       "              dtype='datetime64[ns]', name='<TIME_DT>', freq=None)"
      ]
     },
     "metadata": {},
     "output_type": "display_data"
    }
   ],
   "source": [
    "df_ibm_period_grouped = df_ibm_period.groupby(by=[\"<TIME_DT>\"]).mean()\n",
    "df_intc_period_grouped = df_intc_period.groupby(by=[\"<TIME_DT>\"]).mean()\n",
    "display(df_intc_period_grouped[\"<LAST>\"].head())\n",
    "display(df_intc_period_grouped.index)"
   ]
  },
  {
   "cell_type": "code",
   "execution_count": 13,
   "metadata": {},
   "outputs": [
    {
     "data": {
      "image/png": "[encoded data removed]",
      "text/plain": [
       "<Figure size 432x288 with 2 Axes>"
      ]
     },
     "metadata": {
      "needs_background": "light"
     },
     "output_type": "display_data"
    }
   ],
   "source": [
    "fig, ax1 = plt.subplots()\n",
    "ax2 = ax1.twinx()\n",
    "ax1.scatter(df_ibm_period_grouped.index, df_ibm_period_grouped[\"<LAST>\"], c='r')\n",
    "ax2.scatter(df_intc_period_grouped.index, df_intc_period_grouped[\"<LAST>\"], c='b')\n",
    "plt.legend([\"IBM\", \"INTC\"])\n",
    "plt.show()"
   ]
  },
  {
   "cell_type": "code",
   "execution_count": 14,
   "metadata": {},
   "outputs": [
    {
     "data": {
      "text/plain": [
       "0.703710956248444"
      ]
     },
     "execution_count": 14,
     "metadata": {},
     "output_type": "execute_result"
    }
   ],
   "source": [
    "df_ibm_period_grouped[\"<LAST>\"].corr(df_intc_period_grouped[\"<LAST>\"])"
   ]
  },
  {
   "cell_type": "code",
   "execution_count": 15,
   "metadata": {
    "scrolled": false
   },
   "outputs": [
    {
     "data": {
      "text/plain": [
       "0.6928164757806944"
      ]
     },
     "metadata": {},
     "output_type": "display_data"
    },
    {
     "data": {
      "text/plain": [
       "0.7336328404340201"
      ]
     },
     "metadata": {},
     "output_type": "display_data"
    },
    {
     "data": {
      "text/plain": [
       "0.8650584389133487"
      ]
     },
     "metadata": {},
     "output_type": "display_data"
    },
    {
     "data": {
      "text/plain": [
       "0.7729304457491147"
      ]
     },
     "metadata": {},
     "output_type": "display_data"
    },
    {
     "data": {
      "text/plain": [
       "0.7014847098053881"
      ]
     },
     "metadata": {},
     "output_type": "display_data"
    },
    {
     "data": {
      "text/plain": [
       "0.7899370576356577"
      ]
     },
     "metadata": {},
     "output_type": "display_data"
    },
    {
     "data": {
      "text/plain": [
       "0.8147062824303476"
      ]
     },
     "metadata": {},
     "output_type": "display_data"
    },
    {
     "data": {
      "text/plain": [
       "0.7275425236360328"
      ]
     },
     "metadata": {},
     "output_type": "display_data"
    },
    {
     "data": {
      "text/plain": [
       "0.5252009792517547"
      ]
     },
     "metadata": {},
     "output_type": "display_data"
    },
    {
     "data": {
      "text/plain": [
       "-0.06368119089760746"
      ]
     },
     "metadata": {},
     "output_type": "display_data"
    },
    {
     "data": {
      "text/plain": [
       "-0.19578866011096352"
      ]
     },
     "metadata": {},
     "output_type": "display_data"
    },
    {
     "data": {
      "text/plain": [
       "-0.24061963461664598"
      ]
     },
     "metadata": {},
     "output_type": "display_data"
    },
    {
     "data": {
      "text/plain": [
       "0.42657142078783955"
      ]
     },
     "metadata": {},
     "output_type": "display_data"
    },
    {
     "data": {
      "text/plain": [
       "0.12542797744793643"
      ]
     },
     "metadata": {},
     "output_type": "display_data"
    },
    {
     "data": {
      "text/plain": [
       "0.01856487517275097"
      ]
     },
     "metadata": {},
     "output_type": "display_data"
    },
    {
     "data": {
      "text/plain": [
       "0.2985769600415171"
      ]
     },
     "metadata": {},
     "output_type": "display_data"
    },
    {
     "data": {
      "text/plain": [
       "0.7264150280208054"
      ]
     },
     "metadata": {},
     "output_type": "display_data"
    },
    {
     "data": {
      "text/plain": [
       "0.9529525264871199"
      ]
     },
     "metadata": {},
     "output_type": "display_data"
    },
    {
     "data": {
      "text/plain": [
       "0.9565327157924868"
      ]
     },
     "metadata": {},
     "output_type": "display_data"
    },
    {
     "data": {
      "text/plain": [
       "0.9246545263492938"
      ]
     },
     "metadata": {},
     "output_type": "display_data"
    },
    {
     "data": {
      "text/plain": [
       "0.8656742173031424"
      ]
     },
     "metadata": {},
     "output_type": "display_data"
    },
    {
     "data": {
      "text/plain": [
       "0.8255152470331426"
      ]
     },
     "metadata": {},
     "output_type": "display_data"
    },
    {
     "data": {
      "text/plain": [
       "0.8988069211400052"
      ]
     },
     "metadata": {},
     "output_type": "display_data"
    },
    {
     "data": {
      "text/plain": [
       "0.9219696964020845"
      ]
     },
     "metadata": {},
     "output_type": "display_data"
    },
    {
     "data": {
      "text/plain": [
       "0.895760432468396"
      ]
     },
     "metadata": {},
     "output_type": "display_data"
    },
    {
     "data": {
      "text/plain": [
       "0.8893762779716632"
      ]
     },
     "metadata": {},
     "output_type": "display_data"
    },
    {
     "data": {
      "text/plain": [
       "0.8359491138100528"
      ]
     },
     "metadata": {},
     "output_type": "display_data"
    },
    {
     "data": {
      "text/plain": [
       "0.8184486718476015"
      ]
     },
     "metadata": {},
     "output_type": "display_data"
    },
    {
     "data": {
      "text/plain": [
       "0.7170466105105626"
      ]
     },
     "metadata": {},
     "output_type": "display_data"
    },
    {
     "data": {
      "text/plain": [
       "0.7551616636232809"
      ]
     },
     "metadata": {},
     "output_type": "display_data"
    },
    {
     "data": {
      "text/plain": [
       "0.740450183021811"
      ]
     },
     "metadata": {},
     "output_type": "display_data"
    },
    {
     "data": {
      "text/plain": [
       "0.7528906928455822"
      ]
     },
     "metadata": {},
     "output_type": "display_data"
    },
    {
     "data": {
      "text/plain": [
       "0.8616683630204467"
      ]
     },
     "metadata": {},
     "output_type": "display_data"
    },
    {
     "data": {
      "text/plain": [
       "0.7839585432728429"
      ]
     },
     "metadata": {},
     "output_type": "display_data"
    },
    {
     "data": {
      "text/plain": [
       "0.8137197906758071"
      ]
     },
     "metadata": {},
     "output_type": "display_data"
    },
    {
     "data": {
      "text/plain": [
       "0.8186959951239706"
      ]
     },
     "metadata": {},
     "output_type": "display_data"
    },
    {
     "data": {
      "text/plain": [
       "0.5343970855036432"
      ]
     },
     "metadata": {},
     "output_type": "display_data"
    },
    {
     "data": {
      "text/plain": [
       "0.9713760036276968"
      ]
     },
     "metadata": {},
     "output_type": "display_data"
    },
    {
     "data": {
      "text/plain": [
       "nan"
      ]
     },
     "metadata": {},
     "output_type": "display_data"
    },
    {
     "ename": "IndexError",
     "evalue": "single positional indexer is out-of-bounds",
     "output_type": "error",
     "traceback": [
      "\u001b[1;31m---------------------------------------------------------------------------\u001b[0m",
      "\u001b[1;31mIndexError\u001b[0m                                Traceback (most recent call last)",
      "\u001b[1;32m<ipython-input-15-bdf8a96b8775>\u001b[0m in \u001b[0;36m<module>\u001b[1;34m\u001b[0m\n\u001b[0;32m     14\u001b[0m     \u001b[0mmoved_offset\u001b[0m \u001b[1;33m=\u001b[0m \u001b[0mdatetime\u001b[0m\u001b[1;33m.\u001b[0m\u001b[0mtimedelta\u001b[0m\u001b[1;33m(\u001b[0m\u001b[0mminutes\u001b[0m\u001b[1;33m=\u001b[0m\u001b[0mMOVED_OFFSET_MINUTES\u001b[0m\u001b[1;33m)\u001b[0m  \u001b[1;31m# zapiąć w fora i days=5, days=4, days=0 minutes=180 -> i patrzymy jak wyglada wspo. korelacji Pearsona\u001b[0m\u001b[1;33m\u001b[0m\u001b[1;33m\u001b[0m\u001b[0m\n\u001b[0;32m     15\u001b[0m     df_ibm_period_moved = df_ibm.loc[ \\\n\u001b[1;32m---> 16\u001b[1;33m                                \u001b[1;33m(\u001b[0m\u001b[0mdf_ibm\u001b[0m\u001b[1;33m[\u001b[0m\u001b[1;34m\"<TIME_DT>\"\u001b[0m\u001b[1;33m]\u001b[0m \u001b[1;33m>=\u001b[0m \u001b[0mdf_intc_period\u001b[0m\u001b[1;33m[\u001b[0m\u001b[1;34m\"<TIME_DT>\"\u001b[0m\u001b[1;33m]\u001b[0m\u001b[1;33m.\u001b[0m\u001b[0miloc\u001b[0m\u001b[1;33m[\u001b[0m\u001b[1;36m0\u001b[0m\u001b[1;33m]\u001b[0m \u001b[1;33m-\u001b[0m \u001b[0mmoved_offset\u001b[0m\u001b[1;33m)\u001b[0m\u001b[0;31m \u001b[0m\u001b[0;31m\\\u001b[0m\u001b[1;33m\u001b[0m\u001b[1;33m\u001b[0m\u001b[0m\n\u001b[0m\u001b[0;32m     17\u001b[0m                                \u001b[1;33m&\u001b[0m \u001b[1;33m(\u001b[0m\u001b[0mdf_ibm\u001b[0m\u001b[1;33m[\u001b[0m\u001b[1;34m\"<TIME_DT>\"\u001b[0m\u001b[1;33m]\u001b[0m \u001b[1;33m<=\u001b[0m \u001b[0mdf_intc_period\u001b[0m\u001b[1;33m[\u001b[0m\u001b[1;34m\"<TIME_DT>\"\u001b[0m\u001b[1;33m]\u001b[0m\u001b[1;33m.\u001b[0m\u001b[0miloc\u001b[0m\u001b[1;33m[\u001b[0m\u001b[1;33m-\u001b[0m\u001b[1;36m1\u001b[0m\u001b[1;33m]\u001b[0m \u001b[1;33m-\u001b[0m \u001b[0mmoved_offset\u001b[0m\u001b[1;33m)\u001b[0m\u001b[0;31m \u001b[0m\u001b[0;31m\\\u001b[0m\u001b[1;33m\u001b[0m\u001b[1;33m\u001b[0m\u001b[0m\n\u001b[0;32m     18\u001b[0m                               ]\n",
      "\u001b[1;32m~\\anaconda3\\lib\\site-packages\\pandas\\core\\indexing.py\u001b[0m in \u001b[0;36m__getitem__\u001b[1;34m(self, key)\u001b[0m\n\u001b[0;32m   1766\u001b[0m \u001b[1;33m\u001b[0m\u001b[0m\n\u001b[0;32m   1767\u001b[0m             \u001b[0mmaybe_callable\u001b[0m \u001b[1;33m=\u001b[0m \u001b[0mcom\u001b[0m\u001b[1;33m.\u001b[0m\u001b[0mapply_if_callable\u001b[0m\u001b[1;33m(\u001b[0m\u001b[0mkey\u001b[0m\u001b[1;33m,\u001b[0m \u001b[0mself\u001b[0m\u001b[1;33m.\u001b[0m\u001b[0mobj\u001b[0m\u001b[1;33m)\u001b[0m\u001b[1;33m\u001b[0m\u001b[1;33m\u001b[0m\u001b[0m\n\u001b[1;32m-> 1768\u001b[1;33m             \u001b[1;32mreturn\u001b[0m \u001b[0mself\u001b[0m\u001b[1;33m.\u001b[0m\u001b[0m_getitem_axis\u001b[0m\u001b[1;33m(\u001b[0m\u001b[0mmaybe_callable\u001b[0m\u001b[1;33m,\u001b[0m \u001b[0maxis\u001b[0m\u001b[1;33m=\u001b[0m\u001b[0maxis\u001b[0m\u001b[1;33m)\u001b[0m\u001b[1;33m\u001b[0m\u001b[1;33m\u001b[0m\u001b[0m\n\u001b[0m\u001b[0;32m   1769\u001b[0m \u001b[1;33m\u001b[0m\u001b[0m\n\u001b[0;32m   1770\u001b[0m     \u001b[1;32mdef\u001b[0m \u001b[0m_is_scalar_access\u001b[0m\u001b[1;33m(\u001b[0m\u001b[0mself\u001b[0m\u001b[1;33m,\u001b[0m \u001b[0mkey\u001b[0m\u001b[1;33m:\u001b[0m \u001b[0mTuple\u001b[0m\u001b[1;33m)\u001b[0m\u001b[1;33m:\u001b[0m\u001b[1;33m\u001b[0m\u001b[1;33m\u001b[0m\u001b[0m\n",
      "\u001b[1;32m~\\anaconda3\\lib\\site-packages\\pandas\\core\\indexing.py\u001b[0m in \u001b[0;36m_getitem_axis\u001b[1;34m(self, key, axis)\u001b[0m\n\u001b[0;32m   2136\u001b[0m \u001b[1;33m\u001b[0m\u001b[0m\n\u001b[0;32m   2137\u001b[0m             \u001b[1;31m# validate the location\u001b[0m\u001b[1;33m\u001b[0m\u001b[1;33m\u001b[0m\u001b[1;33m\u001b[0m\u001b[0m\n\u001b[1;32m-> 2138\u001b[1;33m             \u001b[0mself\u001b[0m\u001b[1;33m.\u001b[0m\u001b[0m_validate_integer\u001b[0m\u001b[1;33m(\u001b[0m\u001b[0mkey\u001b[0m\u001b[1;33m,\u001b[0m \u001b[0maxis\u001b[0m\u001b[1;33m)\u001b[0m\u001b[1;33m\u001b[0m\u001b[1;33m\u001b[0m\u001b[0m\n\u001b[0m\u001b[0;32m   2139\u001b[0m \u001b[1;33m\u001b[0m\u001b[0m\n\u001b[0;32m   2140\u001b[0m             \u001b[1;32mreturn\u001b[0m \u001b[0mself\u001b[0m\u001b[1;33m.\u001b[0m\u001b[0m_get_loc\u001b[0m\u001b[1;33m(\u001b[0m\u001b[0mkey\u001b[0m\u001b[1;33m,\u001b[0m \u001b[0maxis\u001b[0m\u001b[1;33m=\u001b[0m\u001b[0maxis\u001b[0m\u001b[1;33m)\u001b[0m\u001b[1;33m\u001b[0m\u001b[1;33m\u001b[0m\u001b[0m\n",
      "\u001b[1;32m~\\anaconda3\\lib\\site-packages\\pandas\\core\\indexing.py\u001b[0m in \u001b[0;36m_validate_integer\u001b[1;34m(self, key, axis)\u001b[0m\n\u001b[0;32m   2061\u001b[0m         \u001b[0mlen_axis\u001b[0m \u001b[1;33m=\u001b[0m \u001b[0mlen\u001b[0m\u001b[1;33m(\u001b[0m\u001b[0mself\u001b[0m\u001b[1;33m.\u001b[0m\u001b[0mobj\u001b[0m\u001b[1;33m.\u001b[0m\u001b[0m_get_axis\u001b[0m\u001b[1;33m(\u001b[0m\u001b[0maxis\u001b[0m\u001b[1;33m)\u001b[0m\u001b[1;33m)\u001b[0m\u001b[1;33m\u001b[0m\u001b[1;33m\u001b[0m\u001b[0m\n\u001b[0;32m   2062\u001b[0m         \u001b[1;32mif\u001b[0m \u001b[0mkey\u001b[0m \u001b[1;33m>=\u001b[0m \u001b[0mlen_axis\u001b[0m \u001b[1;32mor\u001b[0m \u001b[0mkey\u001b[0m \u001b[1;33m<\u001b[0m \u001b[1;33m-\u001b[0m\u001b[0mlen_axis\u001b[0m\u001b[1;33m:\u001b[0m\u001b[1;33m\u001b[0m\u001b[1;33m\u001b[0m\u001b[0m\n\u001b[1;32m-> 2063\u001b[1;33m             \u001b[1;32mraise\u001b[0m \u001b[0mIndexError\u001b[0m\u001b[1;33m(\u001b[0m\u001b[1;34m\"single positional indexer is out-of-bounds\"\u001b[0m\u001b[1;33m)\u001b[0m\u001b[1;33m\u001b[0m\u001b[1;33m\u001b[0m\u001b[0m\n\u001b[0m\u001b[0;32m   2064\u001b[0m \u001b[1;33m\u001b[0m\u001b[0m\n\u001b[0;32m   2065\u001b[0m     \u001b[1;32mdef\u001b[0m \u001b[0m_getitem_tuple\u001b[0m\u001b[1;33m(\u001b[0m\u001b[0mself\u001b[0m\u001b[1;33m,\u001b[0m \u001b[0mtup\u001b[0m\u001b[1;33m:\u001b[0m \u001b[0mTuple\u001b[0m\u001b[1;33m)\u001b[0m\u001b[1;33m:\u001b[0m\u001b[1;33m\u001b[0m\u001b[1;33m\u001b[0m\u001b[0m\n",
      "\u001b[1;31mIndexError\u001b[0m: single positional indexer is out-of-bounds"
     ]
    }
   ],
   "source": [
    "# \"Przesuwanie w czasie\" spolek jedna wzgledem drugiej\n",
    "# df_intc_period - dane spolki intc z jakiegos okresu\n",
    "# start_datetime = datetime.datetime(year=2011, day=20, month=11, hour=12)\n",
    "BEGINNING = df_intc[\"<TIME_DT>\"].iloc[0]\n",
    "ANALYSIS_TIMEWINDOW_MINUTES = 60\n",
    "MOVING_START_DATETIME_MINUTES = 10\n",
    "MOVED_OFFSET_MINUTES = 10\n",
    "\n",
    "for i in range(100):\n",
    "    start_datetime = BEGINNING + datetime.timedelta(minutes=MOVING_START_DATETIME_MINUTES*i)\n",
    "    offset = datetime.timedelta(minutes=ANALYSIS_TIMEWINDOW_MINUTES)  # ustalamy przesuniecie czasowe na poziomie 60minut\n",
    "    df_intc_period = df_intc.loc[(df_intc[\"<TIME_DT>\"] <= start_datetime + offset) & (df_intc[\"<TIME_DT>\"] > start_datetime)]\n",
    "\n",
    "    moved_offset = datetime.timedelta(minutes=MOVED_OFFSET_MINUTES)  # zapiąć w fora i days=5, days=4, days=0 minutes=180 -> i patrzymy jak wyglada wspol. korelacji Pearsona\n",
    "    df_ibm_period_moved = df_ibm.loc[ \\\n",
    "                               (df_ibm[\"<TIME_DT>\"] >= df_intc_period[\"<TIME_DT>\"].iloc[0] - moved_offset) \\\n",
    "                               & (df_ibm[\"<TIME_DT>\"] <= df_intc_period[\"<TIME_DT>\"].iloc[-1] - moved_offset) \\\n",
    "                              ]\n",
    "    # display(df_ibm_period_moved)\n",
    "    # datetime spolki ibm >= datetime spolki intc juz z jakiegos wskazanego wczesniej okresu, przesuniete wstecz o moved_offset\n",
    "    group_plot_corr(df_ibm_period_moved, df_intc_period, plot=False)\n"
   ]
  },
  {
   "cell_type": "markdown",
   "metadata": {},
   "source": [
    "https://www.statsmodels.org/devel/generated/statsmodels.tsa.arima_model.ARIMA.html"
   ]
  },
  {
   "cell_type": "markdown",
   "metadata": {},
   "source": [
    "TODO: \n",
    "\n",
    "porównać korelację w czasie, czy się utrzymuje na stałym poziomie\n",
    "Porównać np. okienko czasowe \"9:30-10:30\" co tydzień (czy ten efekt się utrzymuje, czy też jest jednorazowy)\n"
   ]
  },
  {
   "cell_type": "markdown",
   "metadata": {},
   "source": [
    "# Szeregi auro-regressive"
   ]
  },
  {
   "cell_type": "code",
   "execution_count": 16,
   "metadata": {},
   "outputs": [],
   "source": [
    "import statsmodels.api as sm\n",
    "from statsmodels.tsa.ar_model import AutoReg\n",
    "from statsmodels.tsa.arima.model import ARIMA\n",
    "\n",
    "from sklearn.metrics import mean_squared_error, mean_absolute_error"
   ]
  },
  {
   "cell_type": "code",
   "execution_count": 17,
   "metadata": {},
   "outputs": [],
   "source": [
    "data = df_ibm_period_grouped[\"<LAST>\"].to_numpy()\n",
    "index = df_ibm_period_grouped.index"
   ]
  },
  {
   "cell_type": "markdown",
   "metadata": {},
   "source": [
    "### AR"
   ]
  },
  {
   "cell_type": "code",
   "execution_count": 18,
   "metadata": {},
   "outputs": [],
   "source": [
    "LAG = 4\n",
    "res = AutoReg(data, lags = [LAG]).fit()"
   ]
  },
  {
   "cell_type": "code",
   "execution_count": 19,
   "metadata": {},
   "outputs": [
    {
     "data": {
      "text/plain": [
       "array([4])"
      ]
     },
     "metadata": {},
     "output_type": "display_data"
    },
    {
     "data": {
      "text/plain": [
       "2"
      ]
     },
     "metadata": {},
     "output_type": "display_data"
    }
   ],
   "source": [
    "\n",
    "display(res.ar_lags)\n",
    "\n",
    "# The autoregressive lags included in the model\n",
    "\n",
    "display(res.df_model)\n",
    "\n",
    "# The model degrees of freedom.\n",
    "\n",
    "# display(res.endog_names)\n",
    "\n",
    "# Names of endogenous variables.\n",
    "\n",
    "# display(res.exog_names)\n",
    "\n",
    "# Names of exogenous variables included in model\n",
    "\n",
    "# display(res.hold_back)\n",
    "\n",
    "# The number of initial obs.\n",
    "\n",
    "# display(res.seasonal)"
   ]
  },
  {
   "cell_type": "code",
   "execution_count": 20,
   "metadata": {},
   "outputs": [
    {
     "name": "stdout",
     "output_type": "stream",
     "text": [
      "60\n",
      "157\n"
     ]
    }
   ],
   "source": [
    "FORWARD_OFFSET = 100\n",
    "y_pred = res.predict(start=0, end=len(data)+FORWARD_OFFSET)\n",
    "y_true = df_ibm_period_grouped[\"<LAST>\"].to_numpy()\n",
    "print(len(df_ibm_period_grouped.index))\n",
    "print(len(y_pred))"
   ]
  },
  {
   "cell_type": "code",
   "execution_count": 21,
   "metadata": {},
   "outputs": [
    {
     "data": {
      "image/png": "[encoded data removed]",
      "text/plain": [
       "<Figure size 432x288 with 1 Axes>"
      ]
     },
     "metadata": {
      "needs_background": "light"
     },
     "output_type": "display_data"
    }
   ],
   "source": [
    "# plt.scatter(df_ibm_period_grouped.index[LAG-1:], y_pred, c='r')\n",
    "# plt.scatter(df_ibm_period_grouped.index, y_true, c='b')\n",
    "plt.scatter([idx for idx, _ in enumerate(y_pred)], y_pred, c='r')\n",
    "plt.scatter([idx for idx, _ in enumerate(y_true)], y_true, c='b')\n",
    "plt.legend([\"Predicted\", \"True\"])\n",
    "plt.show()"
   ]
  },
  {
   "cell_type": "code",
   "execution_count": 22,
   "metadata": {},
   "outputs": [
    {
     "ename": "ValueError",
     "evalue": "Found input variables with inconsistent numbers of samples: [157, 57]",
     "output_type": "error",
     "traceback": [
      "\u001b[1;31m---------------------------------------------------------------------------\u001b[0m",
      "\u001b[1;31mValueError\u001b[0m                                Traceback (most recent call last)",
      "\u001b[1;32m<ipython-input-22-028ba0cec5fd>\u001b[0m in \u001b[0;36m<module>\u001b[1;34m\u001b[0m\n\u001b[1;32m----> 1\u001b[1;33m \u001b[0mdisplay\u001b[0m\u001b[1;33m(\u001b[0m\u001b[0mmean_squared_error\u001b[0m\u001b[1;33m(\u001b[0m\u001b[0my_pred\u001b[0m\u001b[1;33m,\u001b[0m \u001b[0my_true\u001b[0m\u001b[1;33m[\u001b[0m\u001b[0mLAG\u001b[0m\u001b[1;33m-\u001b[0m\u001b[1;36m1\u001b[0m\u001b[1;33m:\u001b[0m\u001b[1;33m]\u001b[0m\u001b[1;33m)\u001b[0m\u001b[1;33m)\u001b[0m\u001b[1;33m\u001b[0m\u001b[1;33m\u001b[0m\u001b[0m\n\u001b[0m\u001b[0;32m      2\u001b[0m \u001b[0mdisplay\u001b[0m\u001b[1;33m(\u001b[0m\u001b[0mmean_absolute_error\u001b[0m\u001b[1;33m(\u001b[0m\u001b[0my_pred\u001b[0m\u001b[1;33m,\u001b[0m \u001b[0my_true\u001b[0m\u001b[1;33m[\u001b[0m\u001b[0mLAG\u001b[0m\u001b[1;33m-\u001b[0m\u001b[1;36m1\u001b[0m\u001b[1;33m:\u001b[0m\u001b[1;33m]\u001b[0m\u001b[1;33m)\u001b[0m\u001b[1;33m)\u001b[0m\u001b[1;33m\u001b[0m\u001b[1;33m\u001b[0m\u001b[0m\n",
      "\u001b[1;32m~\\anaconda3\\lib\\site-packages\\sklearn\\utils\\validation.py\u001b[0m in \u001b[0;36minner_f\u001b[1;34m(*args, **kwargs)\u001b[0m\n\u001b[0;32m     71\u001b[0m                           FutureWarning)\n\u001b[0;32m     72\u001b[0m         \u001b[0mkwargs\u001b[0m\u001b[1;33m.\u001b[0m\u001b[0mupdate\u001b[0m\u001b[1;33m(\u001b[0m\u001b[1;33m{\u001b[0m\u001b[0mk\u001b[0m\u001b[1;33m:\u001b[0m \u001b[0marg\u001b[0m \u001b[1;32mfor\u001b[0m \u001b[0mk\u001b[0m\u001b[1;33m,\u001b[0m \u001b[0marg\u001b[0m \u001b[1;32min\u001b[0m \u001b[0mzip\u001b[0m\u001b[1;33m(\u001b[0m\u001b[0msig\u001b[0m\u001b[1;33m.\u001b[0m\u001b[0mparameters\u001b[0m\u001b[1;33m,\u001b[0m \u001b[0margs\u001b[0m\u001b[1;33m)\u001b[0m\u001b[1;33m}\u001b[0m\u001b[1;33m)\u001b[0m\u001b[1;33m\u001b[0m\u001b[1;33m\u001b[0m\u001b[0m\n\u001b[1;32m---> 73\u001b[1;33m         \u001b[1;32mreturn\u001b[0m \u001b[0mf\u001b[0m\u001b[1;33m(\u001b[0m\u001b[1;33m**\u001b[0m\u001b[0mkwargs\u001b[0m\u001b[1;33m)\u001b[0m\u001b[1;33m\u001b[0m\u001b[1;33m\u001b[0m\u001b[0m\n\u001b[0m\u001b[0;32m     74\u001b[0m     \u001b[1;32mreturn\u001b[0m \u001b[0minner_f\u001b[0m\u001b[1;33m\u001b[0m\u001b[1;33m\u001b[0m\u001b[0m\n\u001b[0;32m     75\u001b[0m \u001b[1;33m\u001b[0m\u001b[0m\n",
      "\u001b[1;32m~\\anaconda3\\lib\\site-packages\\sklearn\\metrics\\_regression.py\u001b[0m in \u001b[0;36mmean_squared_error\u001b[1;34m(y_true, y_pred, sample_weight, multioutput, squared)\u001b[0m\n\u001b[0;32m    252\u001b[0m     \"\"\"\n\u001b[0;32m    253\u001b[0m     y_type, y_true, y_pred, multioutput = _check_reg_targets(\n\u001b[1;32m--> 254\u001b[1;33m         y_true, y_pred, multioutput)\n\u001b[0m\u001b[0;32m    255\u001b[0m     \u001b[0mcheck_consistent_length\u001b[0m\u001b[1;33m(\u001b[0m\u001b[0my_true\u001b[0m\u001b[1;33m,\u001b[0m \u001b[0my_pred\u001b[0m\u001b[1;33m,\u001b[0m \u001b[0msample_weight\u001b[0m\u001b[1;33m)\u001b[0m\u001b[1;33m\u001b[0m\u001b[1;33m\u001b[0m\u001b[0m\n\u001b[0;32m    256\u001b[0m     output_errors = np.average((y_true - y_pred) ** 2, axis=0,\n",
      "\u001b[1;32m~\\anaconda3\\lib\\site-packages\\sklearn\\metrics\\_regression.py\u001b[0m in \u001b[0;36m_check_reg_targets\u001b[1;34m(y_true, y_pred, multioutput, dtype)\u001b[0m\n\u001b[0;32m     82\u001b[0m \u001b[1;33m\u001b[0m\u001b[0m\n\u001b[0;32m     83\u001b[0m     \"\"\"\n\u001b[1;32m---> 84\u001b[1;33m     \u001b[0mcheck_consistent_length\u001b[0m\u001b[1;33m(\u001b[0m\u001b[0my_true\u001b[0m\u001b[1;33m,\u001b[0m \u001b[0my_pred\u001b[0m\u001b[1;33m)\u001b[0m\u001b[1;33m\u001b[0m\u001b[1;33m\u001b[0m\u001b[0m\n\u001b[0m\u001b[0;32m     85\u001b[0m     \u001b[0my_true\u001b[0m \u001b[1;33m=\u001b[0m \u001b[0mcheck_array\u001b[0m\u001b[1;33m(\u001b[0m\u001b[0my_true\u001b[0m\u001b[1;33m,\u001b[0m \u001b[0mensure_2d\u001b[0m\u001b[1;33m=\u001b[0m\u001b[1;32mFalse\u001b[0m\u001b[1;33m,\u001b[0m \u001b[0mdtype\u001b[0m\u001b[1;33m=\u001b[0m\u001b[0mdtype\u001b[0m\u001b[1;33m)\u001b[0m\u001b[1;33m\u001b[0m\u001b[1;33m\u001b[0m\u001b[0m\n\u001b[0;32m     86\u001b[0m     \u001b[0my_pred\u001b[0m \u001b[1;33m=\u001b[0m \u001b[0mcheck_array\u001b[0m\u001b[1;33m(\u001b[0m\u001b[0my_pred\u001b[0m\u001b[1;33m,\u001b[0m \u001b[0mensure_2d\u001b[0m\u001b[1;33m=\u001b[0m\u001b[1;32mFalse\u001b[0m\u001b[1;33m,\u001b[0m \u001b[0mdtype\u001b[0m\u001b[1;33m=\u001b[0m\u001b[0mdtype\u001b[0m\u001b[1;33m)\u001b[0m\u001b[1;33m\u001b[0m\u001b[1;33m\u001b[0m\u001b[0m\n",
      "\u001b[1;32m~\\anaconda3\\lib\\site-packages\\sklearn\\utils\\validation.py\u001b[0m in \u001b[0;36mcheck_consistent_length\u001b[1;34m(*arrays)\u001b[0m\n\u001b[0;32m    255\u001b[0m     \u001b[1;32mif\u001b[0m \u001b[0mlen\u001b[0m\u001b[1;33m(\u001b[0m\u001b[0muniques\u001b[0m\u001b[1;33m)\u001b[0m \u001b[1;33m>\u001b[0m \u001b[1;36m1\u001b[0m\u001b[1;33m:\u001b[0m\u001b[1;33m\u001b[0m\u001b[1;33m\u001b[0m\u001b[0m\n\u001b[0;32m    256\u001b[0m         raise ValueError(\"Found input variables with inconsistent numbers of\"\n\u001b[1;32m--> 257\u001b[1;33m                          \" samples: %r\" % [int(l) for l in lengths])\n\u001b[0m\u001b[0;32m    258\u001b[0m \u001b[1;33m\u001b[0m\u001b[0m\n\u001b[0;32m    259\u001b[0m \u001b[1;33m\u001b[0m\u001b[0m\n",
      "\u001b[1;31mValueError\u001b[0m: Found input variables with inconsistent numbers of samples: [157, 57]"
     ]
    }
   ],
   "source": [
    "display(mean_squared_error(y_pred, y_true[LAG-1:]))\n",
    "display(mean_absolute_error(y_pred, y_true[LAG-1:]))"
   ]
  },
  {
   "cell_type": "code",
   "execution_count": null,
   "metadata": {},
   "outputs": [],
   "source": [
    "res.aic, res.hqic, res.bic"
   ]
  },
  {
   "cell_type": "code",
   "execution_count": null,
   "metadata": {},
   "outputs": [],
   "source": [
    "# LAG | MSE | MAE | AIC | HQIC | BIC"
   ]
  },
  {
   "cell_type": "markdown",
   "metadata": {},
   "source": [
    "### ARIMA"
   ]
  },
  {
   "cell_type": "code",
   "execution_count": null,
   "metadata": {},
   "outputs": [],
   "source": [
    "#The (p,d,q) order \n",
    "# p to jest samo co LAG\n",
    "D = 1 # komponent zwiazany z \"moving average\" w modelu\n",
    "Q = 2 # komponent zwiazany z bialym szumem\n",
    "res_ARIMA = ARIMA(data, order=(LAG, D, Q)).fit()"
   ]
  },
  {
   "cell_type": "code",
   "execution_count": null,
   "metadata": {},
   "outputs": [],
   "source": [
    "y_pred = res_ARIMA.predict(start=0, end=len(data)+FORWARD_OFFSET)\n",
    "y_true = df_ibm_period_grouped[\"<LAST>\"].to_numpy()\n",
    "print(len(df_ibm_period_grouped.index))\n",
    "print(len(y_pred))"
   ]
  },
  {
   "cell_type": "code",
   "execution_count": null,
   "metadata": {},
   "outputs": [],
   "source": [
    "FORWARD_OFFSET = 0\n",
    "plt.scatter(df_ibm_period_grouped.index, y_pred[:-1], c='r')\n",
    "plt.scatter(df_ibm_period_grouped.index, y_true, c='b')\n",
    "plt.legend([\"Predicted\", \"True\"])\n",
    "plt.show()"
   ]
  },
  {
   "cell_type": "code",
   "execution_count": null,
   "metadata": {},
   "outputs": [],
   "source": [
    "display(mean_squared_error(y_pred, y_true[LAG-1:]))\n",
    "display(mean_absolute_error(y_pred, y_true[LAG-1:]))\n",
    "\n",
    "res.aic, res.hqic, res.bic"
   ]
  },
  {
   "cell_type": "markdown",
   "metadata": {},
   "source": [
    "### ARMAX"
   ]
  },
  {
   "cell_type": "code",
   "execution_count": null,
   "metadata": {},
   "outputs": [],
   "source": [
    "u = df_intc_period_grouped[\"<LAST>\"].to_numpy()"
   ]
  },
  {
   "cell_type": "code",
   "execution_count": null,
   "metadata": {},
   "outputs": [],
   "source": [
    "display(len(data))\n",
    "display(len(u))"
   ]
  },
  {
   "cell_type": "code",
   "execution_count": null,
   "metadata": {},
   "outputs": [],
   "source": [
    "data = data[:-1]"
   ]
  },
  {
   "cell_type": "code",
   "execution_count": null,
   "metadata": {},
   "outputs": [],
   "source": [
    "#The (p,q) order \n",
    "# p to jest samo co LAG\n",
    "# D = 0 # komponent zwiazany z \"moving average\" w modelu - w modelu ARMAX tego komponentu nie ma\n",
    "Q = 2 # komponent zwiazany z bialym szumem\n",
    "res_ARMAX = ARIMA(data, order=(LAG, 0, Q), exog=u).fit()"
   ]
  },
  {
   "cell_type": "code",
   "execution_count": null,
   "metadata": {},
   "outputs": [],
   "source": [
    "FORWARD_OFFSET = 0\n",
    "y_pred = res_ARMAX.predict(start=0, end=50, exog=u[:50 + 1])  #len(data)+FORWARD_OFFSET, exog=u)\n"
   ]
  },
  {
   "cell_type": "code",
   "execution_count": null,
   "metadata": {},
   "outputs": [],
   "source": [
    "# plt.scatter(df_ibm_period_grouped.index, y_pred, c='r')\n",
    "# plt.scatter(df_ibm_period_grouped.index, y_true, c='b')\n",
    "plt.scatter(np.linspace(0, len(y_pred), num=len(y_pred)), y_pred, c='r')\n",
    "plt.scatter(np.linspace(0, len(y_true), num=len(y_true)), y_true, c='b')\n",
    "plt.scatter(np.linspace(0, len(u), num=len(u)), u, c='m')\n",
    "plt.legend([\"Predicted\", \"True\", \"u\"])\n",
    "plt.show()"
   ]
  },
  {
   "cell_type": "code",
   "execution_count": null,
   "metadata": {},
   "outputs": [],
   "source": [
    "display(mean_squared_error(y_pred, y_true[LAG-1:]))\n",
    "display(mean_absolute_error(y_pred, y_true[LAG-1:]))\n",
    "\n",
    "res.aic, res.hqic, res.bic"
   ]
  },
  {
   "cell_type": "markdown",
   "metadata": {},
   "source": [
    "### Fourier"
   ]
  },
  {
   "cell_type": "code",
   "execution_count": 23,
   "metadata": {},
   "outputs": [],
   "source": [
    "from scipy.fft import fft, fftfreq\n",
    "import matplotlib.pyplot as plt\n",
    "\n"
   ]
  },
  {
   "cell_type": "code",
   "execution_count": 33,
   "metadata": {},
   "outputs": [
    {
     "data": {
      "image/png": "[encoded data removed]",
      "text/plain": [
       "<Figure size 432x288 with 1 Axes>"
      ]
     },
     "metadata": {
      "needs_background": "light"
     },
     "output_type": "display_data"
    }
   ],
   "source": [
    "# Number of sample points\n",
    "N = 600  # liczba probek, ale tez jednoczesnie liczba prazkow czestotliwosci\n",
    "# ALE liczba probek w sygnale nie wplywa na to jaka maksymalna czestotliwosc mozemy w sygnale wylapac\n",
    "# np. jezeli probkujemy sygnal co minute, to maksymalna czestotliwosc jaka jestesmy w stanie wylapac \n",
    "# to jest polowa czestotliwosci probkowania, czyli 2 minuty (dwukrotnosc okresu probkowania)\n",
    "# probki musza byc rownomiernie rozmieszczone (wiec jesli jakis index giełdowy jest probkowany najpierw co sekunde a potem co np. 10 sekund no to trzeba zrobic jakas agregacje)\n",
    "\n",
    "# sample spacing\n",
    "T = 1.0 / 800.0  # okres probkowania\n",
    "x = np.linspace(0.0, N*T, N, endpoint=False)\n",
    "y = np.sin(50.0 * 2.0*np.pi*x)  # sin(omega * t) = sin(2pi*freq*t)\n",
    "yf = fft(y)\n",
    "xf = fftfreq(N, T)[:N//2] # [:N//2] - wycinamy z widma tylko dodanie czestotliwosci na potrzeby praktycznej analizy\n",
    "\n",
    "plt.plot(xf, 2.0/N * np.abs(yf[0:N//2]))  # [:N//2] - wycinamy z widma tylko dodanie czestotliwosci na potrzeby praktycznej analizy\n",
    "plt.grid()\n",
    "plt.show()"
   ]
  },
  {
   "cell_type": "code",
   "execution_count": 59,
   "metadata": {},
   "outputs": [],
   "source": [
    "def perform_fourier(y, T):\n",
    "    yf = fft(y)  # rozbicie w szereg Fouriera\n",
    "    N = len(y)\n",
    "    xf = fftfreq(N, T)[:N//2]\n",
    "    return yf, xf\n",
    "    \n",
    "def plot_fourier(xf, yf, N, T):\n",
    "    # Tu plotujemy tzw. widmo Fouriera (inaczej widmo sygnału)\n",
    "    plt.plot(xf, 2.0/N * np.abs(yf[0:N//2]))\n",
    "    plt.grid()\n",
    "    fs = 1 / T;\n",
    "    freq_bin = fs / N  # to nam mowi o tym jak dobrze rozroznialne sa czestotliwosci w sygnale, jednostka to Hz\n",
    "    plt.title(f\" Freq_bin = {freq_bin} Hz, czyli {1/freq_bin} sekund\")  #f - wymusza tzw. f-string czyli formatowalny string, rownie dobrze mozna napisac \"{0}\".format(freq_bin)\n",
    "    plt.show()\n",
    "\n",
    "def prepare_spectre_dataframe(xf, yf, N):\n",
    "    df_spectre = pd.DataFrame({\"Frequencies, Hz\": xf, \"Period, s\": 1/xf, \"Values\": 2.0/N * np.abs(yf[0:N//2])})\n",
    "    df_spectre.sort_values(by=\"Values\", ascending=False)\n",
    "    return df_spectre"
   ]
  },
  {
   "cell_type": "code",
   "execution_count": 60,
   "metadata": {},
   "outputs": [
    {
     "data": {
      "text/plain": [
       "60"
      ]
     },
     "metadata": {},
     "output_type": "display_data"
    },
    {
     "data": {
      "image/png": "[encoded data removed]",
      "text/plain": [
       "<Figure size 432x288 with 1 Axes>"
      ]
     },
     "metadata": {
      "needs_background": "light"
     },
     "output_type": "display_data"
    },
    {
     "data": {
      "image/png": "[encoded data removed]",
      "text/plain": [
       "<Figure size 432x288 with 1 Axes>"
      ]
     },
     "metadata": {
      "needs_background": "light"
     },
     "output_type": "display_data"
    },
    {
     "name": "stderr",
     "output_type": "stream",
     "text": [
      "C:\\Users\\Darek_PC\\anaconda3\\lib\\site-packages\\ipykernel_launcher.py:17: RuntimeWarning: divide by zero encountered in true_divide\n"
     ]
    }
   ],
   "source": [
    "# IBM\n",
    "data = df_ibm_period_grouped[\"<LAST>\"].to_numpy()\n",
    "T = (df_ibm_period_grouped.index[1] - df_ibm_period_grouped.index[0]).seconds  # okres probkowania sygnalu\n",
    "display(T)\n",
    "N = len(df_ibm_period_grouped)  # tyle mamy probek sygnalu\n",
    "\n",
    "plt.plot(data)\n",
    "plt.show()\n",
    "\n",
    "yf, xf = perform_fourier(data, T)\n",
    "plot_fourier(xf, yf, N, T)\n",
    "\n",
    "df_spectre_ibm = prepare_spectre_dataframe(xf, yf, N)"
   ]
  },
  {
   "cell_type": "code",
   "execution_count": 62,
   "metadata": {},
   "outputs": [
    {
     "data": {
      "text/plain": [
       "60"
      ]
     },
     "metadata": {},
     "output_type": "display_data"
    },
    {
     "data": {
      "image/png": "[encoded data removed]",
      "text/plain": [
       "<Figure size 432x288 with 1 Axes>"
      ]
     },
     "metadata": {
      "needs_background": "light"
     },
     "output_type": "display_data"
    },
    {
     "data": {
      "image/png": "[encoded data removed]",
      "text/plain": [
       "<Figure size 432x288 with 1 Axes>"
      ]
     },
     "metadata": {
      "needs_background": "light"
     },
     "output_type": "display_data"
    },
    {
     "name": "stderr",
     "output_type": "stream",
     "text": [
      "C:\\Users\\Darek_PC\\anaconda3\\lib\\site-packages\\ipykernel_launcher.py:17: RuntimeWarning: divide by zero encountered in true_divide\n"
     ]
    }
   ],
   "source": [
    "# INTC\n",
    "data = df_intc_period_grouped[\"<LAST>\"].to_numpy()\n",
    "T = (df_intc_period_grouped.index[1] - df_intc_period_grouped.index[0]).seconds  # okres probkowania sygnalu\n",
    "display(T)\n",
    "N = len(df_intc_period_grouped)  # tyle mamy probek sygnalu\n",
    "\n",
    "plt.plot(data)\n",
    "plt.show()\n",
    "\n",
    "yf, xf = perform_fourier(data, T)\n",
    "plot_fourier(xf, yf, N, T)\n",
    "\n",
    "df_spectre_intc = prepare_spectre_dataframe(xf, yf, N)"
   ]
  },
  {
   "cell_type": "code",
   "execution_count": 76,
   "metadata": {},
   "outputs": [],
   "source": [
    "def normalize_series(series):\n",
    "    return (series-series.min())/(series.max()-series.min())"
   ]
  },
  {
   "cell_type": "code",
   "execution_count": 87,
   "metadata": {},
   "outputs": [
    {
     "data": {
      "text/html": [
       "<div>\n",
       "<style scoped>\n",
       "    .dataframe tbody tr th:only-of-type {\n",
       "        vertical-align: middle;\n",
       "    }\n",
       "\n",
       "    .dataframe tbody tr th {\n",
       "        vertical-align: top;\n",
       "    }\n",
       "\n",
       "    .dataframe thead th {\n",
       "        text-align: right;\n",
       "    }\n",
       "</style>\n",
       "<table border=\"1\" class=\"dataframe\">\n",
       "  <thead>\n",
       "    <tr style=\"text-align: right;\">\n",
       "      <th></th>\n",
       "      <th>Frequencies, Hz</th>\n",
       "      <th>Period, s</th>\n",
       "      <th>Values</th>\n",
       "      <th>Values</th>\n",
       "    </tr>\n",
       "  </thead>\n",
       "  <tbody>\n",
       "    <tr>\n",
       "      <th>0</th>\n",
       "      <td>0.000000</td>\n",
       "      <td>inf</td>\n",
       "      <td>345.068538</td>\n",
       "      <td>40.425807</td>\n",
       "    </tr>\n",
       "    <tr>\n",
       "      <th>1</th>\n",
       "      <td>0.000278</td>\n",
       "      <td>3600.0</td>\n",
       "      <td>0.243303</td>\n",
       "      <td>0.061311</td>\n",
       "    </tr>\n",
       "    <tr>\n",
       "      <th>2</th>\n",
       "      <td>0.000556</td>\n",
       "      <td>1800.0</td>\n",
       "      <td>0.230280</td>\n",
       "      <td>0.015450</td>\n",
       "    </tr>\n",
       "    <tr>\n",
       "      <th>3</th>\n",
       "      <td>0.000833</td>\n",
       "      <td>1200.0</td>\n",
       "      <td>0.348211</td>\n",
       "      <td>0.049256</td>\n",
       "    </tr>\n",
       "    <tr>\n",
       "      <th>4</th>\n",
       "      <td>0.001111</td>\n",
       "      <td>900.0</td>\n",
       "      <td>0.042112</td>\n",
       "      <td>0.017547</td>\n",
       "    </tr>\n",
       "  </tbody>\n",
       "</table>\n",
       "</div>"
      ],
      "text/plain": [
       "   Frequencies, Hz  Period, s      Values     Values\n",
       "0         0.000000        inf  345.068538  40.425807\n",
       "1         0.000278     3600.0    0.243303   0.061311\n",
       "2         0.000556     1800.0    0.230280   0.015450\n",
       "3         0.000833     1200.0    0.348211   0.049256\n",
       "4         0.001111      900.0    0.042112   0.017547"
      ]
     },
     "metadata": {},
     "output_type": "display_data"
    },
    {
     "data": {
      "text/html": [
       "<div>\n",
       "<style scoped>\n",
       "    .dataframe tbody tr th:only-of-type {\n",
       "        vertical-align: middle;\n",
       "    }\n",
       "\n",
       "    .dataframe tbody tr th {\n",
       "        vertical-align: top;\n",
       "    }\n",
       "\n",
       "    .dataframe thead th {\n",
       "        text-align: right;\n",
       "    }\n",
       "</style>\n",
       "<table border=\"1\" class=\"dataframe\">\n",
       "  <thead>\n",
       "    <tr style=\"text-align: right;\">\n",
       "      <th></th>\n",
       "      <th>Frequencies, Hz</th>\n",
       "      <th>Period, s</th>\n",
       "      <th>Values</th>\n",
       "      <th>Values</th>\n",
       "      <th>Values_A</th>\n",
       "      <th>Values_B</th>\n",
       "      <th>Difference</th>\n",
       "      <th>Difference_wzgledna</th>\n",
       "    </tr>\n",
       "  </thead>\n",
       "  <tbody>\n",
       "    <tr>\n",
       "      <th>0</th>\n",
       "      <td>0.000000</td>\n",
       "      <td>inf</td>\n",
       "      <td>345.068538</td>\n",
       "      <td>40.425807</td>\n",
       "      <td>1.000000</td>\n",
       "      <td>1.000000</td>\n",
       "      <td>0.000000</td>\n",
       "      <td>0.000000</td>\n",
       "    </tr>\n",
       "    <tr>\n",
       "      <th>6</th>\n",
       "      <td>0.001667</td>\n",
       "      <td>600.000000</td>\n",
       "      <td>0.078364</td>\n",
       "      <td>0.009511</td>\n",
       "      <td>0.000212</td>\n",
       "      <td>0.000222</td>\n",
       "      <td>0.000010</td>\n",
       "      <td>0.044014</td>\n",
       "    </tr>\n",
       "    <tr>\n",
       "      <th>26</th>\n",
       "      <td>0.007222</td>\n",
       "      <td>138.461538</td>\n",
       "      <td>0.012105</td>\n",
       "      <td>0.002036</td>\n",
       "      <td>0.000027</td>\n",
       "      <td>0.000030</td>\n",
       "      <td>0.000003</td>\n",
       "      <td>0.090230</td>\n",
       "    </tr>\n",
       "    <tr>\n",
       "      <th>14</th>\n",
       "      <td>0.003889</td>\n",
       "      <td>257.142857</td>\n",
       "      <td>0.053098</td>\n",
       "      <td>0.005954</td>\n",
       "      <td>0.000124</td>\n",
       "      <td>0.000148</td>\n",
       "      <td>0.000025</td>\n",
       "      <td>0.165428</td>\n",
       "    </tr>\n",
       "    <tr>\n",
       "      <th>8</th>\n",
       "      <td>0.002222</td>\n",
       "      <td>450.000000</td>\n",
       "      <td>0.075115</td>\n",
       "      <td>0.008053</td>\n",
       "      <td>0.000176</td>\n",
       "      <td>0.000212</td>\n",
       "      <td>0.000036</td>\n",
       "      <td>0.171631</td>\n",
       "    </tr>\n",
       "    <tr>\n",
       "      <th>3</th>\n",
       "      <td>0.000833</td>\n",
       "      <td>1200.000000</td>\n",
       "      <td>0.348211</td>\n",
       "      <td>0.049256</td>\n",
       "      <td>0.001195</td>\n",
       "      <td>0.001004</td>\n",
       "      <td>0.000191</td>\n",
       "      <td>0.190735</td>\n",
       "    </tr>\n",
       "    <tr>\n",
       "      <th>25</th>\n",
       "      <td>0.006944</td>\n",
       "      <td>144.000000</td>\n",
       "      <td>0.012397</td>\n",
       "      <td>0.002450</td>\n",
       "      <td>0.000037</td>\n",
       "      <td>0.000030</td>\n",
       "      <td>0.000007</td>\n",
       "      <td>0.222023</td>\n",
       "    </tr>\n",
       "    <tr>\n",
       "      <th>16</th>\n",
       "      <td>0.004444</td>\n",
       "      <td>225.000000</td>\n",
       "      <td>0.023040</td>\n",
       "      <td>0.004144</td>\n",
       "      <td>0.000079</td>\n",
       "      <td>0.000061</td>\n",
       "      <td>0.000018</td>\n",
       "      <td>0.290878</td>\n",
       "    </tr>\n",
       "    <tr>\n",
       "      <th>9</th>\n",
       "      <td>0.002500</td>\n",
       "      <td>400.000000</td>\n",
       "      <td>0.100835</td>\n",
       "      <td>0.008448</td>\n",
       "      <td>0.000185</td>\n",
       "      <td>0.000287</td>\n",
       "      <td>0.000101</td>\n",
       "      <td>0.352957</td>\n",
       "    </tr>\n",
       "    <tr>\n",
       "      <th>12</th>\n",
       "      <td>0.003333</td>\n",
       "      <td>300.000000</td>\n",
       "      <td>0.082956</td>\n",
       "      <td>0.006633</td>\n",
       "      <td>0.000141</td>\n",
       "      <td>0.000235</td>\n",
       "      <td>0.000094</td>\n",
       "      <td>0.401356</td>\n",
       "    </tr>\n",
       "    <tr>\n",
       "      <th>2</th>\n",
       "      <td>0.000556</td>\n",
       "      <td>1800.000000</td>\n",
       "      <td>0.230280</td>\n",
       "      <td>0.015450</td>\n",
       "      <td>0.000359</td>\n",
       "      <td>0.000662</td>\n",
       "      <td>0.000303</td>\n",
       "      <td>0.457983</td>\n",
       "    </tr>\n",
       "    <tr>\n",
       "      <th>10</th>\n",
       "      <td>0.002778</td>\n",
       "      <td>360.000000</td>\n",
       "      <td>0.080644</td>\n",
       "      <td>0.005583</td>\n",
       "      <td>0.000115</td>\n",
       "      <td>0.000228</td>\n",
       "      <td>0.000114</td>\n",
       "      <td>0.497578</td>\n",
       "    </tr>\n",
       "    <tr>\n",
       "      <th>22</th>\n",
       "      <td>0.006111</td>\n",
       "      <td>163.636364</td>\n",
       "      <td>0.029519</td>\n",
       "      <td>0.002530</td>\n",
       "      <td>0.000039</td>\n",
       "      <td>0.000080</td>\n",
       "      <td>0.000041</td>\n",
       "      <td>0.511045</td>\n",
       "    </tr>\n",
       "    <tr>\n",
       "      <th>23</th>\n",
       "      <td>0.006389</td>\n",
       "      <td>156.521739</td>\n",
       "      <td>0.015774</td>\n",
       "      <td>0.001596</td>\n",
       "      <td>0.000016</td>\n",
       "      <td>0.000040</td>\n",
       "      <td>0.000024</td>\n",
       "      <td>0.601468</td>\n",
       "    </tr>\n",
       "    <tr>\n",
       "      <th>11</th>\n",
       "      <td>0.003056</td>\n",
       "      <td>327.272727</td>\n",
       "      <td>0.027863</td>\n",
       "      <td>0.005885</td>\n",
       "      <td>0.000122</td>\n",
       "      <td>0.000075</td>\n",
       "      <td>0.000047</td>\n",
       "      <td>0.623621</td>\n",
       "    </tr>\n",
       "    <tr>\n",
       "      <th>18</th>\n",
       "      <td>0.005000</td>\n",
       "      <td>200.000000</td>\n",
       "      <td>0.022120</td>\n",
       "      <td>0.001784</td>\n",
       "      <td>0.000021</td>\n",
       "      <td>0.000059</td>\n",
       "      <td>0.000038</td>\n",
       "      <td>0.647191</td>\n",
       "    </tr>\n",
       "    <tr>\n",
       "      <th>27</th>\n",
       "      <td>0.007500</td>\n",
       "      <td>133.333333</td>\n",
       "      <td>0.013632</td>\n",
       "      <td>0.003243</td>\n",
       "      <td>0.000057</td>\n",
       "      <td>0.000034</td>\n",
       "      <td>0.000023</td>\n",
       "      <td>0.670867</td>\n",
       "    </tr>\n",
       "    <tr>\n",
       "      <th>20</th>\n",
       "      <td>0.005556</td>\n",
       "      <td>180.000000</td>\n",
       "      <td>0.033245</td>\n",
       "      <td>0.001582</td>\n",
       "      <td>0.000016</td>\n",
       "      <td>0.000091</td>\n",
       "      <td>0.000075</td>\n",
       "      <td>0.827693</td>\n",
       "    </tr>\n",
       "    <tr>\n",
       "      <th>24</th>\n",
       "      <td>0.006667</td>\n",
       "      <td>150.000000</td>\n",
       "      <td>0.013565</td>\n",
       "      <td>0.001077</td>\n",
       "      <td>0.000003</td>\n",
       "      <td>0.000034</td>\n",
       "      <td>0.000031</td>\n",
       "      <td>0.906241</td>\n",
       "    </tr>\n",
       "    <tr>\n",
       "      <th>13</th>\n",
       "      <td>0.003611</td>\n",
       "      <td>276.923077</td>\n",
       "      <td>0.032955</td>\n",
       "      <td>0.008158</td>\n",
       "      <td>0.000178</td>\n",
       "      <td>0.000090</td>\n",
       "      <td>0.000088</td>\n",
       "      <td>0.982273</td>\n",
       "    </tr>\n",
       "    <tr>\n",
       "      <th>7</th>\n",
       "      <td>0.001944</td>\n",
       "      <td>514.285714</td>\n",
       "      <td>0.086730</td>\n",
       "      <td>0.001101</td>\n",
       "      <td>0.000004</td>\n",
       "      <td>0.000246</td>\n",
       "      <td>0.000242</td>\n",
       "      <td>0.984678</td>\n",
       "    </tr>\n",
       "    <tr>\n",
       "      <th>17</th>\n",
       "      <td>0.004722</td>\n",
       "      <td>211.764706</td>\n",
       "      <td>0.026049</td>\n",
       "      <td>0.000949</td>\n",
       "      <td>0.000000</td>\n",
       "      <td>0.000070</td>\n",
       "      <td>0.000070</td>\n",
       "      <td>1.000000</td>\n",
       "    </tr>\n",
       "    <tr>\n",
       "      <th>1</th>\n",
       "      <td>0.000278</td>\n",
       "      <td>3600.000000</td>\n",
       "      <td>0.243303</td>\n",
       "      <td>0.061311</td>\n",
       "      <td>0.001493</td>\n",
       "      <td>0.000700</td>\n",
       "      <td>0.000794</td>\n",
       "      <td>1.134486</td>\n",
       "    </tr>\n",
       "    <tr>\n",
       "      <th>19</th>\n",
       "      <td>0.005278</td>\n",
       "      <td>189.473684</td>\n",
       "      <td>0.014246</td>\n",
       "      <td>0.004284</td>\n",
       "      <td>0.000083</td>\n",
       "      <td>0.000036</td>\n",
       "      <td>0.000047</td>\n",
       "      <td>1.308114</td>\n",
       "    </tr>\n",
       "    <tr>\n",
       "      <th>5</th>\n",
       "      <td>0.001389</td>\n",
       "      <td>720.000000</td>\n",
       "      <td>0.063349</td>\n",
       "      <td>0.020129</td>\n",
       "      <td>0.000474</td>\n",
       "      <td>0.000178</td>\n",
       "      <td>0.000296</td>\n",
       "      <td>1.664836</td>\n",
       "    </tr>\n",
       "    <tr>\n",
       "      <th>15</th>\n",
       "      <td>0.004167</td>\n",
       "      <td>240.000000</td>\n",
       "      <td>0.024006</td>\n",
       "      <td>0.008897</td>\n",
       "      <td>0.000197</td>\n",
       "      <td>0.000064</td>\n",
       "      <td>0.000133</td>\n",
       "      <td>2.070504</td>\n",
       "    </tr>\n",
       "    <tr>\n",
       "      <th>4</th>\n",
       "      <td>0.001111</td>\n",
       "      <td>900.000000</td>\n",
       "      <td>0.042112</td>\n",
       "      <td>0.017547</td>\n",
       "      <td>0.000411</td>\n",
       "      <td>0.000117</td>\n",
       "      <td>0.000294</td>\n",
       "      <td>2.524301</td>\n",
       "    </tr>\n",
       "    <tr>\n",
       "      <th>21</th>\n",
       "      <td>0.005833</td>\n",
       "      <td>171.428571</td>\n",
       "      <td>0.010795</td>\n",
       "      <td>0.004761</td>\n",
       "      <td>0.000094</td>\n",
       "      <td>0.000026</td>\n",
       "      <td>0.000069</td>\n",
       "      <td>2.663236</td>\n",
       "    </tr>\n",
       "    <tr>\n",
       "      <th>28</th>\n",
       "      <td>0.007778</td>\n",
       "      <td>128.571429</td>\n",
       "      <td>0.001911</td>\n",
       "      <td>0.001565</td>\n",
       "      <td>0.000015</td>\n",
       "      <td>0.000000</td>\n",
       "      <td>0.000015</td>\n",
       "      <td>inf</td>\n",
       "    </tr>\n",
       "    <tr>\n",
       "      <th>29</th>\n",
       "      <td>0.008056</td>\n",
       "      <td>124.137931</td>\n",
       "      <td>0.019433</td>\n",
       "      <td>NaN</td>\n",
       "      <td>NaN</td>\n",
       "      <td>0.000051</td>\n",
       "      <td>NaN</td>\n",
       "      <td>NaN</td>\n",
       "    </tr>\n",
       "  </tbody>\n",
       "</table>\n",
       "</div>"
      ],
      "text/plain": [
       "    Frequencies, Hz    Period, s      Values     Values  Values_A  Values_B  \\\n",
       "0          0.000000          inf  345.068538  40.425807  1.000000  1.000000   \n",
       "6          0.001667   600.000000    0.078364   0.009511  0.000212  0.000222   \n",
       "26         0.007222   138.461538    0.012105   0.002036  0.000027  0.000030   \n",
       "14         0.003889   257.142857    0.053098   0.005954  0.000124  0.000148   \n",
       "8          0.002222   450.000000    0.075115   0.008053  0.000176  0.000212   \n",
       "3          0.000833  1200.000000    0.348211   0.049256  0.001195  0.001004   \n",
       "25         0.006944   144.000000    0.012397   0.002450  0.000037  0.000030   \n",
       "16         0.004444   225.000000    0.023040   0.004144  0.000079  0.000061   \n",
       "9          0.002500   400.000000    0.100835   0.008448  0.000185  0.000287   \n",
       "12         0.003333   300.000000    0.082956   0.006633  0.000141  0.000235   \n",
       "2          0.000556  1800.000000    0.230280   0.015450  0.000359  0.000662   \n",
       "10         0.002778   360.000000    0.080644   0.005583  0.000115  0.000228   \n",
       "22         0.006111   163.636364    0.029519   0.002530  0.000039  0.000080   \n",
       "23         0.006389   156.521739    0.015774   0.001596  0.000016  0.000040   \n",
       "11         0.003056   327.272727    0.027863   0.005885  0.000122  0.000075   \n",
       "18         0.005000   200.000000    0.022120   0.001784  0.000021  0.000059   \n",
       "27         0.007500   133.333333    0.013632   0.003243  0.000057  0.000034   \n",
       "20         0.005556   180.000000    0.033245   0.001582  0.000016  0.000091   \n",
       "24         0.006667   150.000000    0.013565   0.001077  0.000003  0.000034   \n",
       "13         0.003611   276.923077    0.032955   0.008158  0.000178  0.000090   \n",
       "7          0.001944   514.285714    0.086730   0.001101  0.000004  0.000246   \n",
       "17         0.004722   211.764706    0.026049   0.000949  0.000000  0.000070   \n",
       "1          0.000278  3600.000000    0.243303   0.061311  0.001493  0.000700   \n",
       "19         0.005278   189.473684    0.014246   0.004284  0.000083  0.000036   \n",
       "5          0.001389   720.000000    0.063349   0.020129  0.000474  0.000178   \n",
       "15         0.004167   240.000000    0.024006   0.008897  0.000197  0.000064   \n",
       "4          0.001111   900.000000    0.042112   0.017547  0.000411  0.000117   \n",
       "21         0.005833   171.428571    0.010795   0.004761  0.000094  0.000026   \n",
       "28         0.007778   128.571429    0.001911   0.001565  0.000015  0.000000   \n",
       "29         0.008056   124.137931    0.019433        NaN       NaN  0.000051   \n",
       "\n",
       "    Difference  Difference_wzgledna  \n",
       "0     0.000000             0.000000  \n",
       "6     0.000010             0.044014  \n",
       "26    0.000003             0.090230  \n",
       "14    0.000025             0.165428  \n",
       "8     0.000036             0.171631  \n",
       "3     0.000191             0.190735  \n",
       "25    0.000007             0.222023  \n",
       "16    0.000018             0.290878  \n",
       "9     0.000101             0.352957  \n",
       "12    0.000094             0.401356  \n",
       "2     0.000303             0.457983  \n",
       "10    0.000114             0.497578  \n",
       "22    0.000041             0.511045  \n",
       "23    0.000024             0.601468  \n",
       "11    0.000047             0.623621  \n",
       "18    0.000038             0.647191  \n",
       "27    0.000023             0.670867  \n",
       "20    0.000075             0.827693  \n",
       "24    0.000031             0.906241  \n",
       "13    0.000088             0.982273  \n",
       "7     0.000242             0.984678  \n",
       "17    0.000070             1.000000  \n",
       "1     0.000794             1.134486  \n",
       "19    0.000047             1.308114  \n",
       "5     0.000296             1.664836  \n",
       "15    0.000133             2.070504  \n",
       "4     0.000294             2.524301  \n",
       "21    0.000069             2.663236  \n",
       "28    0.000015                  inf  \n",
       "29         NaN                  NaN  "
      ]
     },
     "metadata": {},
     "output_type": "display_data"
    },
    {
     "data": {
      "text/html": [
       "<div>\n",
       "<style scoped>\n",
       "    .dataframe tbody tr th:only-of-type {\n",
       "        vertical-align: middle;\n",
       "    }\n",
       "\n",
       "    .dataframe tbody tr th {\n",
       "        vertical-align: top;\n",
       "    }\n",
       "\n",
       "    .dataframe thead th {\n",
       "        text-align: right;\n",
       "    }\n",
       "</style>\n",
       "<table border=\"1\" class=\"dataframe\">\n",
       "  <thead>\n",
       "    <tr style=\"text-align: right;\">\n",
       "      <th></th>\n",
       "      <th>Frequencies, Hz</th>\n",
       "      <th>Period, s</th>\n",
       "      <th>Values</th>\n",
       "      <th>Values</th>\n",
       "      <th>Values_A</th>\n",
       "      <th>Values_B</th>\n",
       "      <th>Difference</th>\n",
       "      <th>Difference_wzgledna</th>\n",
       "    </tr>\n",
       "  </thead>\n",
       "  <tbody>\n",
       "    <tr>\n",
       "      <th>0</th>\n",
       "      <td>0.000000</td>\n",
       "      <td>inf</td>\n",
       "      <td>345.068538</td>\n",
       "      <td>40.425807</td>\n",
       "      <td>1.000000</td>\n",
       "      <td>1.000000</td>\n",
       "      <td>0.00000</td>\n",
       "      <td>0.000000</td>\n",
       "    </tr>\n",
       "    <tr>\n",
       "      <th>6</th>\n",
       "      <td>0.001667</td>\n",
       "      <td>600.0</td>\n",
       "      <td>0.078364</td>\n",
       "      <td>0.009511</td>\n",
       "      <td>0.000212</td>\n",
       "      <td>0.000222</td>\n",
       "      <td>0.00001</td>\n",
       "      <td>0.044014</td>\n",
       "    </tr>\n",
       "  </tbody>\n",
       "</table>\n",
       "</div>"
      ],
      "text/plain": [
       "   Frequencies, Hz  Period, s      Values     Values  Values_A  Values_B  \\\n",
       "0         0.000000        inf  345.068538  40.425807  1.000000  1.000000   \n",
       "6         0.001667      600.0    0.078364   0.009511  0.000212  0.000222   \n",
       "\n",
       "   Difference  Difference_wzgledna  \n",
       "0     0.00000             0.000000  \n",
       "6     0.00001             0.044014  "
      ]
     },
     "metadata": {},
     "output_type": "display_data"
    }
   ],
   "source": [
    "df_spectre_merged = pd.concat([df_spectre_ibm, df_spectre_intc[\"Values\"]], axis=1)  # df_spectre_ibm df_spectre_intc[\"Values\"]  #join(df_spectre_intc, on='Values', rsuffix=\"r_\")\n",
    "display(df_spectre_merged.head())\n",
    "values_A = normalize_series(df_spectre_merged.iloc[:, -1])\n",
    "values_B = normalize_series(df_spectre_merged.iloc[:, -2])\n",
    "df_spectre_merged[\"Values_A\"] = values_A\n",
    "df_spectre_merged[\"Values_B\"] = values_B\n",
    "df_spectre_merged[\"Difference\"] = abs(df_spectre_merged[\"Values_B\"] - df_spectre_merged[\"Values_A\"])\n",
    "df_spectre_merged[\"Difference_wzgledna\"] = df_spectre_merged[\"Difference\"] / df_spectre_merged[\"Values_B\"]\n",
    "display(df_spectre_merged.sort_values(by=\"Difference_wzgledna\"))\n",
    "display(df_spectre_merged.sort_values(by=\"Difference_wzgledna\").loc[df_spectre_merged[\"Difference_wzgledna\"] < 0.05])\n"
   ]
  },
  {
   "cell_type": "code",
   "execution_count": null,
   "metadata": {},
   "outputs": [],
   "source": [
    "100 - 1 = 99 - > 99/ 100 -> 0.99\n",
    "10000 - 9901 = 99 -> 99 / 10000 -? 0.00099"
   ]
  }
 ],
 "metadata": {
  "kernelspec": {
   "display_name": "Python 3",
   "language": "python",
   "name": "python3"
  },
  "language_info": {
   "codemirror_mode": {
    "name": "ipython",
    "version": 3
   },
   "file_extension": ".py",
   "mimetype": "text/x-python",
   "name": "python",
   "nbconvert_exporter": "python",
   "pygments_lexer": "ipython3",
   "version": "3.6.10"
  }
 },
 "nbformat": 4,
 "nbformat_minor": 4
}
