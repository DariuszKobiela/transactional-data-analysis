{
 "cells": [
  {
   "cell_type": "code",
   "execution_count": null,
   "id": "39a96db7",
   "metadata": {},
   "outputs": [],
   "source": [
    "import boto3\n",
    "import os\n",
    "import pandas"
   ]
  },
  {
   "cell_type": "code",
   "execution_count": null,
   "id": "c315520d",
   "metadata": {},
   "outputs": [],
   "source": [
    "s3 = boto3.resource('s3',\n",
    "    aws_access_key_id=\":)\",\n",
    "    aws_secret_access_key=\":)\")\n",
    "    #config = my_config)\n",
    "\n",
    "bucket = s3.Bucket('aws-bucket')\n",
    "\n",
    "print('Downloading trades...')\n",
    "\n",
    "for obj in bucket.objects.filter(Prefix='trades/'): #.limit(10):\n",
    "    path, filename = os.path.split(obj.key)\n",
    "    bucket.download_file(obj.key,'trades\\\\'+filename)\n",
    "    print('Trades: {0}:{1}'.format(bucket.name, obj.key))\n",
    "\n",
    "print('\\n')\n",
    "print('---------------------------------------------------------------------------------------------')\n",
    "print('All trades downloaded!!')\n",
    "print('Now, quotes are coming...')\n",
    "print('---------------------------------------------------------------------------------------------')\n",
    "print('\\n')\n",
    "    \n",
    "for obj in bucket.objects.filter(Prefix='quotes/'): #.limit(10):\n",
    "    path, filename = os.path.split(obj.key)\n",
    "    bucket.download_file(obj.key,'quotes\\\\'+filename)\n",
    "    print('Quotes: {0}:{1}'.format(bucket.name, obj.key))\n",
    "\n",
    "print('\\n')\n",
    "print('---------------------------------------------------------------------------------------------')\n",
    "print('All quotes downloaded!!')\n",
    "print('MISSION COMPLETED')\n",
    "print('---------------------------------------------------------------------------------------------')\n",
    "print('\\n')"
   ]
  }
 ],
 "metadata": {
  "kernelspec": {
   "display_name": "Python 3 (ipykernel)",
   "language": "python",
   "name": "python3"
  },
  "language_info": {
   "codemirror_mode": {
    "name": "ipython",
    "version": 3
   },
   "file_extension": ".py",
   "mimetype": "text/x-python",
   "name": "python",
   "nbconvert_exporter": "python",
   "pygments_lexer": "ipython3",
   "version": "3.9.13"
  }
 },
 "nbformat": 4,
 "nbformat_minor": 5
}
