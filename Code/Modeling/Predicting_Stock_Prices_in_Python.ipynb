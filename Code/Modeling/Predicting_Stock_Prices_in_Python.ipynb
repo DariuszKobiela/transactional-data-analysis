{
 "cells": [
  {
   "cell_type": "code",
   "execution_count": 2,
   "metadata": {},
   "outputs": [],
   "source": [
    "import numpy as np\n",
    "import matplotlib.pyplot as plt\n",
    "import pandas as pd\n",
    "import pandas_datareader as web\n",
    "import datetime as dt"
   ]
  },
  {
   "cell_type": "code",
   "execution_count": 3,
   "metadata": {},
   "outputs": [],
   "source": [
    "from sklearn.preprocessing import MinMaxScaler\n",
    "from tensorflow.keras.models import Sequential\n",
    "from tensorflow.keras.layers import Dense, Dropout, LSTM"
   ]
  },
  {
   "cell_type": "code",
   "execution_count": 4,
   "metadata": {},
   "outputs": [],
   "source": [
    "#Loading Data\n",
    "company = 'FB'\n",
    "start = dt.datetime(2012,1,1)\n",
    "end = dt.datetime(2020,1,1)\n",
    "data = web.DataReader(company,'yahoo', start,end)"
   ]
  },
  {
   "cell_type": "code",
   "execution_count": 5,
   "metadata": {},
   "outputs": [
    {
     "data": {
      "text/html": [
       "<div>\n",
       "<style scoped>\n",
       "    .dataframe tbody tr th:only-of-type {\n",
       "        vertical-align: middle;\n",
       "    }\n",
       "\n",
       "    .dataframe tbody tr th {\n",
       "        vertical-align: top;\n",
       "    }\n",
       "\n",
       "    .dataframe thead th {\n",
       "        text-align: right;\n",
       "    }\n",
       "</style>\n",
       "<table border=\"1\" class=\"dataframe\">\n",
       "  <thead>\n",
       "    <tr style=\"text-align: right;\">\n",
       "      <th></th>\n",
       "      <th>High</th>\n",
       "      <th>Low</th>\n",
       "      <th>Open</th>\n",
       "      <th>Close</th>\n",
       "      <th>Volume</th>\n",
       "      <th>Adj Close</th>\n",
       "    </tr>\n",
       "    <tr>\n",
       "      <th>Date</th>\n",
       "      <th></th>\n",
       "      <th></th>\n",
       "      <th></th>\n",
       "      <th></th>\n",
       "      <th></th>\n",
       "      <th></th>\n",
       "    </tr>\n",
       "  </thead>\n",
       "  <tbody>\n",
       "    <tr>\n",
       "      <th>2012-05-18</th>\n",
       "      <td>45.000000</td>\n",
       "      <td>38.000000</td>\n",
       "      <td>42.049999</td>\n",
       "      <td>38.230000</td>\n",
       "      <td>573576400</td>\n",
       "      <td>38.230000</td>\n",
       "    </tr>\n",
       "    <tr>\n",
       "      <th>2012-05-21</th>\n",
       "      <td>36.660000</td>\n",
       "      <td>33.000000</td>\n",
       "      <td>36.529999</td>\n",
       "      <td>34.029999</td>\n",
       "      <td>168192700</td>\n",
       "      <td>34.029999</td>\n",
       "    </tr>\n",
       "    <tr>\n",
       "      <th>2012-05-22</th>\n",
       "      <td>33.590000</td>\n",
       "      <td>30.940001</td>\n",
       "      <td>32.610001</td>\n",
       "      <td>31.000000</td>\n",
       "      <td>101786600</td>\n",
       "      <td>31.000000</td>\n",
       "    </tr>\n",
       "    <tr>\n",
       "      <th>2012-05-23</th>\n",
       "      <td>32.500000</td>\n",
       "      <td>31.360001</td>\n",
       "      <td>31.370001</td>\n",
       "      <td>32.000000</td>\n",
       "      <td>73600000</td>\n",
       "      <td>32.000000</td>\n",
       "    </tr>\n",
       "    <tr>\n",
       "      <th>2012-05-24</th>\n",
       "      <td>33.209999</td>\n",
       "      <td>31.770000</td>\n",
       "      <td>32.950001</td>\n",
       "      <td>33.029999</td>\n",
       "      <td>50237200</td>\n",
       "      <td>33.029999</td>\n",
       "    </tr>\n",
       "  </tbody>\n",
       "</table>\n",
       "</div>"
      ],
      "text/plain": [
       "                 High        Low       Open      Close     Volume  Adj Close\n",
       "Date                                                                        \n",
       "2012-05-18  45.000000  38.000000  42.049999  38.230000  573576400  38.230000\n",
       "2012-05-21  36.660000  33.000000  36.529999  34.029999  168192700  34.029999\n",
       "2012-05-22  33.590000  30.940001  32.610001  31.000000  101786600  31.000000\n",
       "2012-05-23  32.500000  31.360001  31.370001  32.000000   73600000  32.000000\n",
       "2012-05-24  33.209999  31.770000  32.950001  33.029999   50237200  33.029999"
      ]
     },
     "execution_count": 5,
     "metadata": {},
     "output_type": "execute_result"
    }
   ],
   "source": [
    "data.head()"
   ]
  },
  {
   "cell_type": "code",
   "execution_count": 6,
   "metadata": {},
   "outputs": [],
   "source": [
    "# Preparing Data\n",
    "scaler = MinMaxScaler(feature_range=(0,1))\n",
    "scaled_data = scaler.fit_transform(data['Close'].values.reshape(-1,1))\n",
    "\n",
    "prediction_days = 60\n",
    "x_train = []\n",
    "y_train = []\n",
    "\n",
    "for x in range(prediction_days, len(scaled_data)):\n",
    "    x_train.append(scaled_data[x-prediction_days:x,0])\n",
    "    y_train.append(scaled_data[x,0])\n",
    "\n",
    "x_train, y_train = np.array(x_train), np.array(y_train)\n",
    "x_train = np.reshape(x_train,(x_train.shape[0],x_train.shape[1],1))\n",
    "\n"
   ]
  },
  {
   "cell_type": "code",
   "execution_count": 7,
   "metadata": {},
   "outputs": [
    {
     "name": "stdout",
     "output_type": "stream",
     "text": [
      "Epoch 1/25\n",
      "59/59 [==============================] - 9s 75ms/step - loss: 0.0242\n",
      "Epoch 2/25\n",
      "59/59 [==============================] - 4s 75ms/step - loss: 0.0041\n",
      "Epoch 3/25\n",
      "59/59 [==============================] - 4s 74ms/step - loss: 0.0039\n",
      "Epoch 4/25\n",
      "59/59 [==============================] - 4s 75ms/step - loss: 0.0036\n",
      "Epoch 5/25\n",
      "59/59 [==============================] - 4s 73ms/step - loss: 0.0035\n",
      "Epoch 6/25\n",
      "59/59 [==============================] - 4s 73ms/step - loss: 0.0040\n",
      "Epoch 7/25\n",
      "59/59 [==============================] - 4s 73ms/step - loss: 0.0031\n",
      "Epoch 8/25\n",
      "59/59 [==============================] - 4s 73ms/step - loss: 0.0033\n",
      "Epoch 9/25\n",
      "59/59 [==============================] - 4s 73ms/step - loss: 0.0032\n",
      "Epoch 10/25\n",
      "59/59 [==============================] - 4s 72ms/step - loss: 0.0039\n",
      "Epoch 11/25\n",
      "59/59 [==============================] - 4s 74ms/step - loss: 0.0026\n",
      "Epoch 12/25\n",
      "59/59 [==============================] - 5s 77ms/step - loss: 0.0026\n",
      "Epoch 13/25\n",
      "59/59 [==============================] - 4s 73ms/step - loss: 0.0037\n",
      "Epoch 14/25\n",
      "59/59 [==============================] - 4s 72ms/step - loss: 0.0024\n",
      "Epoch 15/25\n",
      "59/59 [==============================] - 4s 72ms/step - loss: 0.0025\n",
      "Epoch 16/25\n",
      "59/59 [==============================] - 4s 72ms/step - loss: 0.0025\n",
      "Epoch 17/25\n",
      "59/59 [==============================] - 4s 72ms/step - loss: 0.0025\n",
      "Epoch 18/25\n",
      "59/59 [==============================] - 4s 74ms/step - loss: 0.0023\n",
      "Epoch 19/25\n",
      "59/59 [==============================] - 4s 73ms/step - loss: 0.0022\n",
      "Epoch 20/25\n",
      "59/59 [==============================] - 4s 73ms/step - loss: 0.0025\n",
      "Epoch 21/25\n",
      "59/59 [==============================] - 4s 73ms/step - loss: 0.0021\n",
      "Epoch 22/25\n",
      "59/59 [==============================] - 4s 74ms/step - loss: 0.0021\n",
      "Epoch 23/25\n",
      "59/59 [==============================] - 4s 74ms/step - loss: 0.0022\n",
      "Epoch 24/25\n",
      "59/59 [==============================] - 4s 76ms/step - loss: 0.0020\n",
      "Epoch 25/25\n",
      "59/59 [==============================] - 5s 78ms/step - loss: 0.0020\n"
     ]
    },
    {
     "data": {
      "text/plain": [
       "<keras.callbacks.History at 0x24d7df86248>"
      ]
     },
     "execution_count": 7,
     "metadata": {},
     "output_type": "execute_result"
    }
   ],
   "source": [
    "# Building model\n",
    "model = Sequential()\n",
    "model.add(LSTM(units=50,return_sequences=True, input_shape=(x_train.shape[1],1)))\n",
    "model.add(Dropout(0.2))\n",
    "model.add(LSTM(units=50,return_sequences=True))\n",
    "model.add(Dropout(0.2))\n",
    "model.add(LSTM(units=50))\n",
    "model.add(Dropout(0.2))\n",
    "model.add(Dense(units=1))\n",
    "\n",
    "model.compile(optimizer='adam', loss='mean_squared_error')\n",
    "model.fit(x_train,y_train,epochs=25,batch_size=32)"
   ]
  },
  {
   "cell_type": "code",
   "execution_count": 9,
   "metadata": {},
   "outputs": [],
   "source": [
    "# Test The Model Accuracy on Existing Data\n",
    "# Load Test Data\n",
    "#Loading Data\n",
    "\n",
    "test_start = dt.datetime(2020,1,1)\n",
    "test_end = dt.datetime.now()\n",
    "test_data = web.DataReader(company,'yahoo', test_start,test_end)\n",
    "actual_prices = test_data['Close'].values\n",
    "\n",
    "total_dataset = pd.concat((data['Close'],test_data['Close']),axis=0)\n",
    "\n",
    "model_inputs = total_dataset[len(total_dataset)- len(test_data) - prediction_days:].values\n",
    "model_inputs = model_inputs.reshape(-1,1)\n",
    "model_inputs = scaler.transform(model_inputs)"
   ]
  },
  {
   "cell_type": "code",
   "execution_count": 12,
   "metadata": {},
   "outputs": [],
   "source": [
    "# Make Prediction on Test Data\n",
    "\n",
    "x_test = []\n",
    "\n",
    "for x in range(prediction_days, len(model_inputs)):\n",
    "    x_test.append(model_inputs[x-prediction_days:x,0])\n",
    "\n",
    "x_test = np.array(x_test)\n",
    "x_test = np.reshape(x_test, (x_test.shape[0], x_test.shape[1],1))\n",
    "\n",
    "predicted_prices = model.predict(x_test)\n",
    "predicted_prices = scaler.inverse_transform(predicted_prices)\n"
   ]
  },
  {
   "cell_type": "code",
   "execution_count": 16,
   "metadata": {},
   "outputs": [
    {
     "data": {
      "image/png": "[encoded data removed]",
      "text/plain": [
       "<Figure size 432x288 with 1 Axes>"
      ]
     },
     "metadata": {
      "needs_background": "light"
     },
     "output_type": "display_data"
    }
   ],
   "source": [
    "# Plot predictions\n",
    "plt.plot(actual_prices, color = \"black\", label = f\"Actual {company} Prices\")\n",
    "plt. plot(predicted_prices, color='green', label=f\"Predicted {company} Price\")\n",
    "plt.title(f\"{company} Share Price\")\n",
    "plt.xlabel('Time')\n",
    "plt.ylabel(f\"{company} Share Price\")\n",
    "plt.legend()\n",
    "plt.show()"
   ]
  },
  {
   "cell_type": "code",
   "execution_count": 18,
   "metadata": {},
   "outputs": [
    {
     "name": "stdout",
     "output_type": "stream",
     "text": [
      "WARNING:tensorflow:Model was constructed with shape (None, 60, 1) for input KerasTensor(type_spec=TensorSpec(shape=(None, 60, 1), dtype=tf.float32, name='lstm_input'), name='lstm_input', description=\"created by layer 'lstm_input'\"), but it was called on an input with incompatible shape (None, 59, 1).\n",
      "Prediction: [[317.77283]]\n"
     ]
    }
   ],
   "source": [
    "# Predict Next Day\n",
    "\n",
    "real_data = [model_inputs[len(model_inputs)+1 - prediction_days:len(model_inputs+1),0]]\n",
    "real_data = np.array(real_data)\n",
    "real_data = np.reshape(real_data, (real_data.shape[0],real_data.shape[1],1))\n",
    "\n",
    "prediction = model.predict(real_data)\n",
    "prediction = scaler.inverse_transform(prediction)\n",
    "print(f\"Prediction: {prediction}\")"
   ]
  },
  {
   "cell_type": "code",
   "execution_count": 28,
   "metadata": {},
   "outputs": [
    {
     "ename": "ValueError",
     "evalue": "Found array with dim 3. Estimator expected <= 2.",
     "output_type": "error",
     "traceback": [
      "\u001b[1;31m---------------------------------------------------------------------------\u001b[0m",
      "\u001b[1;31mValueError\u001b[0m                                Traceback (most recent call last)",
      "\u001b[1;32m<ipython-input-28-660272b5e39b>\u001b[0m in \u001b[0;36m<module>\u001b[1;34m\u001b[0m\n\u001b[0;32m      2\u001b[0m \u001b[0mreal_data\u001b[0m \u001b[1;33m=\u001b[0m \u001b[0mnp\u001b[0m\u001b[1;33m.\u001b[0m\u001b[0marray\u001b[0m\u001b[1;33m(\u001b[0m\u001b[0mreal_data\u001b[0m\u001b[1;33m)\u001b[0m\u001b[1;33m\u001b[0m\u001b[1;33m\u001b[0m\u001b[0m\n\u001b[0;32m      3\u001b[0m \u001b[0mreal_data\u001b[0m \u001b[1;33m=\u001b[0m \u001b[0mnp\u001b[0m\u001b[1;33m.\u001b[0m\u001b[0mreshape\u001b[0m\u001b[1;33m(\u001b[0m\u001b[0mreal_data\u001b[0m\u001b[1;33m,\u001b[0m \u001b[1;33m(\u001b[0m\u001b[0mreal_data\u001b[0m\u001b[1;33m.\u001b[0m\u001b[0mshape\u001b[0m\u001b[1;33m[\u001b[0m\u001b[1;36m0\u001b[0m\u001b[1;33m]\u001b[0m\u001b[1;33m,\u001b[0m\u001b[0mreal_data\u001b[0m\u001b[1;33m.\u001b[0m\u001b[0mshape\u001b[0m\u001b[1;33m[\u001b[0m\u001b[1;36m1\u001b[0m\u001b[1;33m]\u001b[0m\u001b[1;33m,\u001b[0m\u001b[1;36m1\u001b[0m\u001b[1;33m)\u001b[0m\u001b[1;33m)\u001b[0m\u001b[1;33m\u001b[0m\u001b[1;33m\u001b[0m\u001b[0m\n\u001b[1;32m----> 4\u001b[1;33m \u001b[0mreal_data\u001b[0m \u001b[1;33m=\u001b[0m \u001b[0mscaler\u001b[0m\u001b[1;33m.\u001b[0m\u001b[0minverse_transform\u001b[0m\u001b[1;33m(\u001b[0m\u001b[0mreal_data\u001b[0m\u001b[1;33m)\u001b[0m\u001b[1;33m\u001b[0m\u001b[1;33m\u001b[0m\u001b[0m\n\u001b[0m",
      "\u001b[1;32m~\\anaconda3\\lib\\site-packages\\sklearn\\preprocessing\\_data.py\u001b[0m in \u001b[0;36minverse_transform\u001b[1;34m(self, X)\u001b[0m\n\u001b[0;32m    432\u001b[0m \u001b[1;33m\u001b[0m\u001b[0m\n\u001b[0;32m    433\u001b[0m         X = check_array(X, copy=self.copy, dtype=FLOAT_DTYPES,\n\u001b[1;32m--> 434\u001b[1;33m                         force_all_finite=\"allow-nan\")\n\u001b[0m\u001b[0;32m    435\u001b[0m \u001b[1;33m\u001b[0m\u001b[0m\n\u001b[0;32m    436\u001b[0m         \u001b[0mX\u001b[0m \u001b[1;33m-=\u001b[0m \u001b[0mself\u001b[0m\u001b[1;33m.\u001b[0m\u001b[0mmin_\u001b[0m\u001b[1;33m\u001b[0m\u001b[1;33m\u001b[0m\u001b[0m\n",
      "\u001b[1;32m~\\anaconda3\\lib\\site-packages\\sklearn\\utils\\validation.py\u001b[0m in \u001b[0;36mcheck_array\u001b[1;34m(array, accept_sparse, accept_large_sparse, dtype, order, copy, force_all_finite, ensure_2d, allow_nd, ensure_min_samples, ensure_min_features, warn_on_dtype, estimator)\u001b[0m\n\u001b[0;32m    572\u001b[0m         \u001b[1;32mif\u001b[0m \u001b[1;32mnot\u001b[0m \u001b[0mallow_nd\u001b[0m \u001b[1;32mand\u001b[0m \u001b[0marray\u001b[0m\u001b[1;33m.\u001b[0m\u001b[0mndim\u001b[0m \u001b[1;33m>=\u001b[0m \u001b[1;36m3\u001b[0m\u001b[1;33m:\u001b[0m\u001b[1;33m\u001b[0m\u001b[1;33m\u001b[0m\u001b[0m\n\u001b[0;32m    573\u001b[0m             raise ValueError(\"Found array with dim %d. %s expected <= 2.\"\n\u001b[1;32m--> 574\u001b[1;33m                              % (array.ndim, estimator_name))\n\u001b[0m\u001b[0;32m    575\u001b[0m \u001b[1;33m\u001b[0m\u001b[0m\n\u001b[0;32m    576\u001b[0m         \u001b[1;32mif\u001b[0m \u001b[0mforce_all_finite\u001b[0m\u001b[1;33m:\u001b[0m\u001b[1;33m\u001b[0m\u001b[1;33m\u001b[0m\u001b[0m\n",
      "\u001b[1;31mValueError\u001b[0m: Found array with dim 3. Estimator expected <= 2."
     ]
    }
   ],
   "source": [
    "\n",
    "real_data = [model_inputs[len(model_inputs)+1 - prediction_days:len(model_inputs+1),0]]\n",
    "real_data = np.array(real_data)\n",
    "real_data = np.reshape(real_data, (real_data.shape[0],real_data.shape[1],1))\n",
    "\n",
    "real_data = scaler.inverse_transform(real_data)"
   ]
  },
  {
   "cell_type": "code",
   "execution_count": 26,
   "metadata": {},
   "outputs": [],
   "source": [
    "test_start = dt.datetime(2020,1,1)\n",
    "test_end = dt.datetime.now()\n",
    "test_data = web.DataReader(company,'yahoo', test_start,test_end)\n",
    "actual_prices = test_data['Close'].values"
   ]
  },
  {
   "cell_type": "code",
   "execution_count": 27,
   "metadata": {},
   "outputs": [
    {
     "data": {
      "text/plain": [
       "array([209.77999878, 208.66999817, 212.6000061 , 213.05999756,\n",
       "       215.22000122, 218.30000305, 218.05999756, 221.91000366,\n",
       "       219.05999756, 221.1499939 , 221.77000427, 222.13999939,\n",
       "       221.44000244, 221.32000732, 219.75999451, 217.94000244,\n",
       "       214.86999512, 217.78999329, 223.22999573, 209.52999878,\n",
       "       201.91000366, 204.19000244, 209.83000183, 210.11000061,\n",
       "       210.8500061 , 212.33000183, 213.05999756, 207.19000244,\n",
       "       210.75999451, 213.13999939, 214.17999268, 217.80000305,\n",
       "       217.49000549, 214.58000183, 210.17999268, 200.72000122,\n",
       "       196.77000427, 197.19999695, 189.75      , 192.47000122,\n",
       "       196.44000244, 185.88999939, 191.75999451, 185.16999817,\n",
       "       181.08999634, 169.5       , 178.19000244, 170.24000549,\n",
       "       154.47000122, 170.27999878, 146.00999451, 149.41999817,\n",
       "       146.96000671, 153.13000488, 149.72999573, 148.1000061 ,\n",
       "       160.97999573, 156.21000671, 163.33999634, 156.78999329,\n",
       "       165.94999695, 166.80000305, 159.6000061 , 158.19000244,\n",
       "       154.17999268, 165.55000305, 168.83000183, 174.27999878,\n",
       "       175.19000244, 174.78999329, 178.16999817, 176.97000122,\n",
       "       176.25      , 179.24000549, 178.24000549, 170.80000305,\n",
       "       182.27999878, 185.13000488, 190.07000732, 187.5       ,\n",
       "       182.91000366, 194.19000244, 204.71000671, 202.27000427,\n",
       "       205.25999451, 207.07000732, 208.47000122, 211.25999451,\n",
       "       212.3500061 , 213.17999268, 210.1000061 , 205.1000061 ,\n",
       "       206.80999756, 210.88000488, 213.19000244, 216.88000488,\n",
       "       229.97000122, 231.38999939, 234.91000366, 232.19999695,\n",
       "       229.13999939, 225.46000671, 225.08999634, 231.91000366,\n",
       "       232.72000122, 230.16000366, 226.28999329, 230.77000427,\n",
       "       231.3999939 , 238.66999817, 236.72999573, 224.42999268,\n",
       "       228.58000183, 232.5       , 235.6499939 , 235.52999878,\n",
       "       235.94000244, 238.78999329, 239.22000122, 242.24000549,\n",
       "       234.02000427, 235.67999268, 216.08000183, 220.63999939,\n",
       "       227.07000732, 237.55000305, 233.41999817, 240.27999878,\n",
       "       240.86000061, 243.58000183, 244.5       , 245.07000732,\n",
       "       239.        , 239.72999573, 240.27999878, 240.92999268,\n",
       "       242.02999878, 245.41999817, 241.75      , 239.86999512,\n",
       "       232.6000061 , 230.71000671, 233.5       , 230.11999512,\n",
       "       233.28999329, 234.5       , 253.66999817, 251.96000671,\n",
       "       249.83000183, 249.11999512, 265.27999878, 268.44000244,\n",
       "       263.        , 256.13000488, 259.89001465, 261.29998779,\n",
       "       261.23999023, 261.16000366, 262.33999634, 262.58999634,\n",
       "       269.01000977, 267.01000977, 271.39001465, 280.82000732,\n",
       "       303.91000366, 293.22000122, 293.66000366, 293.20001221,\n",
       "       295.44000244, 302.5       , 291.11999512, 282.73001099,\n",
       "       271.16000366, 273.72000122, 268.08999634, 266.60998535,\n",
       "       266.1499939 , 272.42001343, 263.51998901, 254.82000732,\n",
       "       252.52999878, 248.1499939 , 254.75      , 249.02000427,\n",
       "       249.52999878, 254.82000732, 256.82000732, 261.79000854,\n",
       "       261.8999939 , 266.63000488, 259.94000244, 264.6499939 ,\n",
       "       258.66000366, 258.11999512, 263.76000977, 264.45001221,\n",
       "       275.75      , 276.14001465, 271.82000732, 266.72000122,\n",
       "       265.92999268, 261.3999939 , 267.55999756, 278.73001099,\n",
       "       278.11999512, 284.79000854, 277.10998535, 283.29000854,\n",
       "       267.67001343, 280.82998657, 263.10998535, 261.35998535,\n",
       "       265.29998779, 287.38000488, 294.67999268, 293.41000366,\n",
       "       278.76998901, 272.42999268, 276.48001099, 275.07998657,\n",
       "       276.95001221, 278.95999146, 275.        , 271.97000122,\n",
       "       272.94000244, 269.70001221, 268.42999268, 276.92001343,\n",
       "       275.58999634, 277.80999756, 276.97000122, 286.54998779,\n",
       "       287.51998901, 281.8500061 , 279.70001221, 285.57998657,\n",
       "       283.3999939 , 277.92001343, 277.11999512, 273.54998779,\n",
       "       274.19000244, 275.54998779, 275.67001343, 274.48001099,\n",
       "       276.3999939 , 272.79000854, 267.08999634, 268.10998535,\n",
       "       267.3999939 , 277.        , 276.77999878, 271.86999512,\n",
       "       273.16000366, 268.94000244, 270.97000122, 263.30999756,\n",
       "       268.73999023, 267.57000732, 256.83999634, 251.08999634,\n",
       "       251.63999939, 245.63999939, 251.36000061, 261.1000061 ,\n",
       "       267.48001099, 272.86999512, 274.5       , 278.01000977,\n",
       "       282.04998779, 272.14001465, 265.        , 258.32998657,\n",
       "       262.01000977, 267.07998657, 266.6499939 , 266.48999023,\n",
       "       268.1000061 , 266.57998657, 269.45001221, 271.86999512,\n",
       "       270.39001465, 270.5       , 273.97000122, 273.57000732,\n",
       "       269.39001465, 261.55999756, 260.32998657, 265.85998535,\n",
       "       264.30999756, 254.69000244, 257.61999512, 264.91000366,\n",
       "       259.        , 255.41000366, 257.64001465, 264.27999878,\n",
       "       255.30999756, 265.73999023, 264.8999939 , 273.88000488,\n",
       "       268.3999939 , 273.75      , 279.27999878, 284.01000977,\n",
       "       278.61999512, 290.10998535, 293.54000854, 290.63000488,\n",
       "       282.14001465, 278.73999023, 283.01998901, 290.82000732,\n",
       "       288.        , 294.52999878, 298.66000366, 308.91000366,\n",
       "       306.26000977, 313.08999634, 313.01998901, 312.45999146,\n",
       "       311.54000854, 309.76000977, 302.82000732, 307.82000732,\n",
       "       306.17999268, 302.23999023, 302.6499939 , 301.47000122,\n",
       "       296.51998901, 301.13000488, 303.04000854, 303.57000732,\n",
       "       307.1000061 , 329.51000977, 325.07998657, 322.57998657,\n",
       "       318.35998535, 315.01998901, 320.01998901, 319.07998657,\n",
       "       305.97000122, 306.52999878, 302.54998779, 305.26000977,\n",
       "       315.94000244, 315.45999146, 309.95999146, 313.58999634,\n",
       "       318.60998535, 316.23001099, 324.63000488, 327.79000854,\n",
       "       327.66000366, 332.75      , 328.73001099, 329.13000488,\n",
       "       329.1499939 , 326.04000854, 330.3500061 , 336.57998657,\n",
       "       333.67999268, 330.25      , 332.45999146, 331.26000977,\n",
       "       336.76998901, 336.75      , 331.07998657, 336.51000977,\n",
       "       329.66000366, 332.29000854, 339.02999878, 340.58999634,\n",
       "       343.17999268, 341.36999512, 355.64001465, 351.89001465,\n",
       "       347.70999146, 354.39001465, 354.70001221, 352.77999878,\n",
       "       350.48999023, 345.6499939 , 350.42001343, 353.16000366,\n",
       "       352.08999634, 347.63000488, 344.45999146, 341.16000366,\n",
       "       336.95001221, 341.66000366, 346.23001099, 351.19000244,\n",
       "       369.79000854, 372.45999146, 367.80999756, 373.27999878,\n",
       "       358.32000732, 356.29998779, 351.95001221, 351.23999023,\n",
       "       358.92001343, 362.97000122, 363.51000977, 361.60998535,\n",
       "       361.13000488, 359.95999146, 362.6499939 , 363.17999268,\n",
       "       366.55999756, 358.45001221, 355.45001221, 355.11999512,\n",
       "       359.36999512, 363.3500061 , 365.51000977, 368.39001465,\n",
       "       364.38000488, 372.63000488, 380.66000366, 379.38000488,\n",
       "       382.04998779, 375.27999878, 376.26000977, 382.17999268,\n",
       "       377.57000732, 378.        , 378.69000244, 376.51000977,\n",
       "       376.52999878, 373.92001343, 373.05999756, 364.72000122,\n",
       "       355.70001221, 357.48001099, 343.20999146, 345.95999146,\n",
       "       352.95999146, 353.57998657, 340.6499939 , 339.60998535,\n",
       "       339.39001465, 343.01000977])"
      ]
     },
     "execution_count": 27,
     "metadata": {},
     "output_type": "execute_result"
    }
   ],
   "source": [
    "actual_prices"
   ]
  }
 ],
 "metadata": {
  "kernelspec": {
   "display_name": "Python 3",
   "language": "python",
   "name": "python3"
  },
  "language_info": {
   "codemirror_mode": {
    "name": "ipython",
    "version": 3
   },
   "file_extension": ".py",
   "mimetype": "text/x-python",
   "name": "python",
   "nbconvert_exporter": "python",
   "pygments_lexer": "ipython3",
   "version": "3.6.10"
  }
 },
 "nbformat": 4,
 "nbformat_minor": 4
}
