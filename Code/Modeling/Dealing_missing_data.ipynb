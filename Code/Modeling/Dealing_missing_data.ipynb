{
 "cells": [
  {
   "cell_type": "code",
   "execution_count": 1,
   "metadata": {},
   "outputs": [],
   "source": [
    "import numpy as np\n",
    "import matplotlib.pyplot as plt\n",
    "import pandas as pd\n",
    "import pandas_datareader as web\n",
    "import datetime as dt"
   ]
  },
  {
   "cell_type": "code",
   "execution_count": 2,
   "metadata": {},
   "outputs": [],
   "source": [
    "from sklearn.preprocessing import MinMaxScaler\n",
    "from tensorflow.keras.models import Sequential\n",
    "from tensorflow.keras.layers import Dense, Dropout, LSTM"
   ]
  },
  {
   "cell_type": "code",
   "execution_count": 58,
   "metadata": {},
   "outputs": [],
   "source": [
    "df=pd.read_csv('VLKAFdaily.csv')\n",
    "df = df.iloc[200:]"
   ]
  },
  {
   "cell_type": "code",
   "execution_count": 99,
   "metadata": {
    "scrolled": false
   },
   "outputs": [
    {
     "data": {
      "text/html": [
       "<div>\n",
       "<style scoped>\n",
       "    .dataframe tbody tr th:only-of-type {\n",
       "        vertical-align: middle;\n",
       "    }\n",
       "\n",
       "    .dataframe tbody tr th {\n",
       "        vertical-align: top;\n",
       "    }\n",
       "\n",
       "    .dataframe thead th {\n",
       "        text-align: right;\n",
       "    }\n",
       "</style>\n",
       "<table border=\"1\" class=\"dataframe\">\n",
       "  <thead>\n",
       "    <tr style=\"text-align: right;\">\n",
       "      <th></th>\n",
       "      <th>year</th>\n",
       "      <th>month</th>\n",
       "      <th>day</th>\n",
       "      <th>timestamp</th>\n",
       "      <th>mktcenter</th>\n",
       "      <th>price</th>\n",
       "      <th>shares</th>\n",
       "      <th>salescondition</th>\n",
       "      <th>submkt</th>\n",
       "    </tr>\n",
       "  </thead>\n",
       "  <tbody>\n",
       "    <tr>\n",
       "      <th>200</th>\n",
       "      <td>2010</td>\n",
       "      <td>11</td>\n",
       "      <td>30</td>\n",
       "      <td>2010-11-30 10:44:53</td>\n",
       "      <td>U</td>\n",
       "      <td>140.75</td>\n",
       "      <td>500</td>\n",
       "      <td>@</td>\n",
       "      <td>NaN</td>\n",
       "    </tr>\n",
       "    <tr>\n",
       "      <th>201</th>\n",
       "      <td>2010</td>\n",
       "      <td>12</td>\n",
       "      <td>2</td>\n",
       "      <td>2010-12-02 11:27:26</td>\n",
       "      <td>U</td>\n",
       "      <td>111.50</td>\n",
       "      <td>20</td>\n",
       "      <td>@</td>\n",
       "      <td>NaN</td>\n",
       "    </tr>\n",
       "    <tr>\n",
       "      <th>202</th>\n",
       "      <td>2010</td>\n",
       "      <td>12</td>\n",
       "      <td>3</td>\n",
       "      <td>2010-12-03 09:36:59</td>\n",
       "      <td>U</td>\n",
       "      <td>104.95</td>\n",
       "      <td>60</td>\n",
       "      <td>@</td>\n",
       "      <td>NaN</td>\n",
       "    </tr>\n",
       "    <tr>\n",
       "      <th>203</th>\n",
       "      <td>2010</td>\n",
       "      <td>12</td>\n",
       "      <td>6</td>\n",
       "      <td>2010-12-06 15:21:26</td>\n",
       "      <td>U</td>\n",
       "      <td>86.00</td>\n",
       "      <td>100</td>\n",
       "      <td>@</td>\n",
       "      <td>NaN</td>\n",
       "    </tr>\n",
       "    <tr>\n",
       "      <th>204</th>\n",
       "      <td>2010</td>\n",
       "      <td>12</td>\n",
       "      <td>7</td>\n",
       "      <td>2010-12-07 13:57:28</td>\n",
       "      <td>U</td>\n",
       "      <td>141.50</td>\n",
       "      <td>50</td>\n",
       "      <td>@</td>\n",
       "      <td>NaN</td>\n",
       "    </tr>\n",
       "  </tbody>\n",
       "</table>\n",
       "</div>"
      ],
      "text/plain": [
       "     year  month  day            timestamp mktcenter   price  shares  \\\n",
       "200  2010     11   30  2010-11-30 10:44:53         U  140.75     500   \n",
       "201  2010     12    2  2010-12-02 11:27:26         U  111.50      20   \n",
       "202  2010     12    3  2010-12-03 09:36:59         U  104.95      60   \n",
       "203  2010     12    6  2010-12-06 15:21:26         U   86.00     100   \n",
       "204  2010     12    7  2010-12-07 13:57:28         U  141.50      50   \n",
       "\n",
       "    salescondition  submkt  \n",
       "200           @        NaN  \n",
       "201           @        NaN  \n",
       "202           @        NaN  \n",
       "203           @        NaN  \n",
       "204           @        NaN  "
      ]
     },
     "execution_count": 99,
     "metadata": {},
     "output_type": "execute_result"
    }
   ],
   "source": [
    "df.head()"
   ]
  },
  {
   "cell_type": "code",
   "execution_count": 95,
   "metadata": {},
   "outputs": [
    {
     "name": "stdout",
     "output_type": "stream",
     "text": [
      "2010-12-12\n"
     ]
    }
   ],
   "source": [
    "g=dt.date(2010, 12, 12)\n",
    "print(g)"
   ]
  },
  {
   "cell_type": "code",
   "execution_count": 101,
   "metadata": {},
   "outputs": [],
   "source": [
    "df1 = df.reset_index()[['year','month','day','price']]"
   ]
  },
  {
   "cell_type": "code",
   "execution_count": 102,
   "metadata": {
    "scrolled": true
   },
   "outputs": [
    {
     "data": {
      "text/html": [
       "<div>\n",
       "<style scoped>\n",
       "    .dataframe tbody tr th:only-of-type {\n",
       "        vertical-align: middle;\n",
       "    }\n",
       "\n",
       "    .dataframe tbody tr th {\n",
       "        vertical-align: top;\n",
       "    }\n",
       "\n",
       "    .dataframe thead th {\n",
       "        text-align: right;\n",
       "    }\n",
       "</style>\n",
       "<table border=\"1\" class=\"dataframe\">\n",
       "  <thead>\n",
       "    <tr style=\"text-align: right;\">\n",
       "      <th></th>\n",
       "      <th>year</th>\n",
       "      <th>month</th>\n",
       "      <th>day</th>\n",
       "      <th>price</th>\n",
       "    </tr>\n",
       "  </thead>\n",
       "  <tbody>\n",
       "    <tr>\n",
       "      <th>0</th>\n",
       "      <td>2010</td>\n",
       "      <td>11</td>\n",
       "      <td>30</td>\n",
       "      <td>140.75</td>\n",
       "    </tr>\n",
       "    <tr>\n",
       "      <th>1</th>\n",
       "      <td>2010</td>\n",
       "      <td>12</td>\n",
       "      <td>2</td>\n",
       "      <td>111.50</td>\n",
       "    </tr>\n",
       "    <tr>\n",
       "      <th>2</th>\n",
       "      <td>2010</td>\n",
       "      <td>12</td>\n",
       "      <td>3</td>\n",
       "      <td>104.95</td>\n",
       "    </tr>\n",
       "    <tr>\n",
       "      <th>3</th>\n",
       "      <td>2010</td>\n",
       "      <td>12</td>\n",
       "      <td>6</td>\n",
       "      <td>86.00</td>\n",
       "    </tr>\n",
       "    <tr>\n",
       "      <th>4</th>\n",
       "      <td>2010</td>\n",
       "      <td>12</td>\n",
       "      <td>7</td>\n",
       "      <td>141.50</td>\n",
       "    </tr>\n",
       "  </tbody>\n",
       "</table>\n",
       "</div>"
      ],
      "text/plain": [
       "   year  month  day   price\n",
       "0  2010     11   30  140.75\n",
       "1  2010     12    2  111.50\n",
       "2  2010     12    3  104.95\n",
       "3  2010     12    6   86.00\n",
       "4  2010     12    7  141.50"
      ]
     },
     "execution_count": 102,
     "metadata": {},
     "output_type": "execute_result"
    }
   ],
   "source": [
    "df1.head()"
   ]
  },
  {
   "cell_type": "code",
   "execution_count": 155,
   "metadata": {
    "scrolled": false
   },
   "outputs": [
    {
     "name": "stdout",
     "output_type": "stream",
     "text": [
      "            abba\n",
      "date            \n",
      "2019-11-27   NaN\n",
      "2019-11-28   2.0\n",
      "2019-11-29   NaN\n",
      "2019-11-30   NaN\n",
      "2019-12-01   NaN\n"
     ]
    }
   ],
   "source": [
    "df_new = pd.DataFrame()\n",
    "begin_date = '2019-11-27'\n",
    "df_new = pd.DataFrame({'date':pd.date_range(begin_date, periods=5)})\n",
    "df_new.set_index('date', inplace=True)\n",
    "df_new.at['2019-11-28','abba']=2\n",
    "print(df_new)\n",
    "\n",
    "\n",
    "\n",
    "#df_new.date.dtype"
   ]
  },
  {
   "cell_type": "code",
   "execution_count": 150,
   "metadata": {},
   "outputs": [
    {
     "data": {
      "text/plain": [
       "2352"
      ]
     },
     "execution_count": 150,
     "metadata": {},
     "output_type": "execute_result"
    }
   ],
   "source": [
    "len(df.index)"
   ]
  },
  {
   "cell_type": "code",
   "execution_count": 157,
   "metadata": {},
   "outputs": [
    {
     "name": "stdout",
     "output_type": "stream",
     "text": [
      "2019-11-28\n"
     ]
    }
   ],
   "source": [
    "print(np.datetime64(\"2019-11-28\"))"
   ]
  },
  {
   "cell_type": "code",
   "execution_count": 158,
   "metadata": {
    "scrolled": true
   },
   "outputs": [
    {
     "name": "stdout",
     "output_type": "stream",
     "text": [
      "            abba\n",
      "date            \n",
      "2019-11-27   NaN\n",
      "2019-11-28   2.0\n",
      "2019-11-29   NaN\n",
      "2019-11-30   NaN\n",
      "2019-12-01   NaN\n",
      "2010-11-30   3.0\n",
      "2010-12-02   3.0\n",
      "2010-12-03   3.0\n",
      "2010-12-06   3.0\n",
      "2010-12-07   3.0\n",
      "2010-12-08   3.0\n",
      "2010-12-09   3.0\n"
     ]
    }
   ],
   "source": [
    "for x in range(len(df.index)- 2345):\n",
    "    y = df1.at[x,'year']\n",
    "    m = df1.at[x,'month']\n",
    "    d = df1.at[x,'day']\n",
    "    #print(dt.date(y,m,d))\n",
    "    date_index = dt.date(y,m,d)\n",
    "    df_new.at[np.datetime64(date_index),'abba']=3\n",
    "print(df_new)"
   ]
  },
  {
   "cell_type": "code",
   "execution_count": 140,
   "metadata": {},
   "outputs": [
    {
     "data": {
      "text/html": [
       "<div>\n",
       "<style scoped>\n",
       "    .dataframe tbody tr th:only-of-type {\n",
       "        vertical-align: middle;\n",
       "    }\n",
       "\n",
       "    .dataframe tbody tr th {\n",
       "        vertical-align: top;\n",
       "    }\n",
       "\n",
       "    .dataframe thead th {\n",
       "        text-align: right;\n",
       "    }\n",
       "</style>\n",
       "<table border=\"1\" class=\"dataframe\">\n",
       "  <thead>\n",
       "    <tr style=\"text-align: right;\">\n",
       "      <th></th>\n",
       "      <th>abba</th>\n",
       "    </tr>\n",
       "    <tr>\n",
       "      <th>date</th>\n",
       "      <th></th>\n",
       "    </tr>\n",
       "  </thead>\n",
       "  <tbody>\n",
       "    <tr>\n",
       "      <th>2019-11-27</th>\n",
       "      <td>NaN</td>\n",
       "    </tr>\n",
       "    <tr>\n",
       "      <th>2019-11-28</th>\n",
       "      <td>2.0</td>\n",
       "    </tr>\n",
       "    <tr>\n",
       "      <th>2019-11-29</th>\n",
       "      <td>NaN</td>\n",
       "    </tr>\n",
       "    <tr>\n",
       "      <th>2019-11-30</th>\n",
       "      <td>NaN</td>\n",
       "    </tr>\n",
       "    <tr>\n",
       "      <th>2019-12-01</th>\n",
       "      <td>NaN</td>\n",
       "    </tr>\n",
       "  </tbody>\n",
       "</table>\n",
       "</div>"
      ],
      "text/plain": [
       "            abba\n",
       "date            \n",
       "2019-11-27   NaN\n",
       "2019-11-28   2.0\n",
       "2019-11-29   NaN\n",
       "2019-11-30   NaN\n",
       "2019-12-01   NaN"
      ]
     },
     "execution_count": 140,
     "metadata": {},
     "output_type": "execute_result"
    }
   ],
   "source": [
    "df_new"
   ]
  },
  {
   "cell_type": "code",
   "execution_count": 20,
   "metadata": {
    "scrolled": true
   },
   "outputs": [
    {
     "data": {
      "text/plain": [
       "[<matplotlib.lines.Line2D at 0x24b0f35bc48>,\n",
       " <matplotlib.lines.Line2D at 0x24b0f64edc8>]"
      ]
     },
     "execution_count": 20,
     "metadata": {},
     "output_type": "execute_result"
    },
    {
     "data": {
      "image/png": "[encoded data removed]",
      "text/plain": [
       "<Figure size 432x288 with 1 Axes>"
      ]
     },
     "metadata": {
      "needs_background": "light"
     },
     "output_type": "display_data"
    }
   ],
   "source": [
    "plt.plot(df2)"
   ]
  },
  {
   "cell_type": "code",
   "execution_count": null,
   "metadata": {},
   "outputs": [],
   "source": []
  }
 ],
 "metadata": {
  "kernelspec": {
   "display_name": "Python 3",
   "language": "python",
   "name": "python3"
  },
  "language_info": {
   "codemirror_mode": {
    "name": "ipython",
    "version": 3
   },
   "file_extension": ".py",
   "mimetype": "text/x-python",
   "name": "python",
   "nbconvert_exporter": "python",
   "pygments_lexer": "ipython3",
   "version": "3.7.6"
  }
 },
 "nbformat": 4,
 "nbformat_minor": 4
}
