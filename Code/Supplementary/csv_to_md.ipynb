{
 "cells": [
  {
   "cell_type": "markdown",
   "id": "ef04f942",
   "metadata": {},
   "source": [
    "##### Source: https://cppsecrets.com/users/1102811497104117108109111104116975048484864103109971051084699111109/Convert-a-CSV-file-to-a-table-in-a-markdown-file.php"
   ]
  },
  {
   "cell_type": "code",
   "execution_count": 1,
   "id": "6d3dfd4c",
   "metadata": {},
   "outputs": [],
   "source": [
    "#Importing the libraries\n",
    "import csv"
   ]
  },
  {
   "cell_type": "code",
   "execution_count": 2,
   "id": "cb4c750c",
   "metadata": {},
   "outputs": [],
   "source": [
    "def csv_to_md(csv_file_path,type_del):        \n",
    "    # creating a file with .md extension for the output file\n",
    "    output_file = csv_file_path.replace(\".csv\", \".md\")\n",
    "\n",
    "    # I used encoding UTF-8 as we won't have to worry about errors while decoding contents of a csv file\n",
    "    csv_dict = csv.DictReader(open(csv_file_path, encoding=\"UTF-8\"),delimiter=type_del)\n",
    "\n",
    "    # storing the content of csv file in a list_of_rows. Each row is a dict.\n",
    "    list_of_rows = [dict_row for dict_row in csv_dict]\n",
    "\n",
    "    # For Headers of the csv file.\n",
    "    headers = list(list_of_rows[0].keys())\n",
    "\n",
    "    # The below code block makes md_string as per the required format of a markdown file.\n",
    "    md_string = \" | \"\n",
    "    for header in headers:\n",
    "        md_string += header+\" |\"\n",
    "\n",
    "    md_string += \"\\n |\"\n",
    "    for i in range(len(headers)):\n",
    "        md_string += \"--- | \"\n",
    "\n",
    "    md_string += \"\\n\"\n",
    "    for row in list_of_rows:\n",
    "        md_string += \" | \"\n",
    "        for header in headers:\n",
    "            md_string += row[header]+\" | \"\n",
    "        md_string += \"\\n\"\n",
    "\n",
    "    # writing md_string to the output_file\n",
    "    file = open(output_file, \"w\", encoding=\"UTF-8\")\n",
    "    file.write(md_string)\n",
    "    file.close()\n",
    "\n",
    "    print(\"The markdown file has been created!!!\")"
   ]
  },
  {
   "cell_type": "code",
   "execution_count": 6,
   "id": "7deed782",
   "metadata": {},
   "outputs": [
    {
     "name": "stdout",
     "output_type": "stream",
     "text": [
      "Input path of the csv file:VLKAF2009aggregated.csv\n",
      "Enter the type of delemiter example ',' '|' ';' for space enter 'space' for tab enter 'tab' or any other : ,\n",
      "The markdown file has been created!!!\n"
     ]
    }
   ],
   "source": [
    "if __name__==\"__main__\":        \n",
    "    csv_file_path = input(\"Input path of the csv file:\")\n",
    "    #takes input of the type of delimiter in CSV file\n",
    "    type_del=input(\"Enter the type of delemiter example ',' '|' ';' for space enter 'space' for tab enter 'tab' or any other : \")\n",
    "\n",
    "    if type_del==\"space\":\n",
    "        type_del=\" \"\n",
    "        \n",
    "    if type_del==\"tab\":\n",
    "        type_del=\"\t\"\n",
    "    \n",
    "    csv_to_md(csv_file_path,type_del)"
   ]
  }
 ],
 "metadata": {
  "kernelspec": {
   "display_name": "Python 3",
   "language": "python",
   "name": "python3"
  },
  "language_info": {
   "codemirror_mode": {
    "name": "ipython",
    "version": 3
   },
   "file_extension": ".py",
   "mimetype": "text/x-python",
   "name": "python",
   "nbconvert_exporter": "python",
   "pygments_lexer": "ipython3",
   "version": "3.9.1"
  }
 },
 "nbformat": 4,
 "nbformat_minor": 5
}
